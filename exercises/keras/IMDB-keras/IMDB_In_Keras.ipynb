{
 "cells": [
  {
   "cell_type": "markdown",
   "metadata": {},
   "source": [
    "# Analyzing IMDB Data in Keras"
   ]
  },
  {
   "cell_type": "code",
   "execution_count": 1,
   "metadata": {},
   "outputs": [
    {
     "name": "stderr",
     "output_type": "stream",
     "text": [
      "Using TensorFlow backend.\n"
     ]
    }
   ],
   "source": [
    "# Imports\n",
    "import numpy as np\n",
    "import keras\n",
    "from keras.datasets import imdb\n",
    "from keras.models import Sequential\n",
    "from keras.layers import Dense, Dropout, Activation\n",
    "from keras.preprocessing.text import Tokenizer\n",
    "import matplotlib.pyplot as plt\n",
    "%matplotlib inline\n",
    "\n",
    "np.random.seed(42)"
   ]
  },
  {
   "cell_type": "markdown",
   "metadata": {},
   "source": [
    "## 1. Loading the data\n",
    "This dataset comes preloaded with Keras, so one simple command will get us training and testing data. There is a parameter for how many words we want to look at. We've set it at 1000, but feel free to experiment."
   ]
  },
  {
   "cell_type": "code",
   "execution_count": 22,
   "metadata": {},
   "outputs": [
    {
     "name": "stdout",
     "output_type": "stream",
     "text": [
      "(25000,)\n",
      "(25000,)\n"
     ]
    }
   ],
   "source": [
    "# Loading the data (it's preloaded in Keras)\n",
    "dict_size = 3000\n",
    "(x_train, y_train), (x_test, y_test) = imdb.load_data(num_words=dict_size)\n",
    "\n",
    "print(x_train.shape)\n",
    "print(x_test.shape)"
   ]
  },
  {
   "cell_type": "markdown",
   "metadata": {},
   "source": [
    "## 2. Examining the data\n",
    "Notice that the data has been already pre-processed, where all the words have numbers, and the reviews come in as a vector with the words that the review contains. For example, if the word 'the' is the first one in our dictionary, and a review contains the word 'the', then there is a 1 in the corresponding vector.\n",
    "\n",
    "The output comes as a vector of 1's and 0's, where 1 is a positive sentiment for the review, and 0 is negative."
   ]
  },
  {
   "cell_type": "code",
   "execution_count": 4,
   "metadata": {},
   "outputs": [
    {
     "name": "stdout",
     "output_type": "stream",
     "text": [
      "[1, 14, 22, 16, 43, 530, 973, 2, 2, 65, 458, 2, 66, 2, 4, 173, 36, 256, 5, 25, 100, 43, 838, 112, 50, 670, 2, 9, 35, 480, 284, 5, 150, 4, 172, 112, 167, 2, 336, 385, 39, 4, 172, 2, 2, 17, 546, 38, 13, 447, 4, 192, 50, 16, 6, 147, 2, 19, 14, 22, 4, 2, 2, 469, 4, 22, 71, 87, 12, 16, 43, 530, 38, 76, 15, 13, 2, 4, 22, 17, 515, 17, 12, 16, 626, 18, 2, 5, 62, 386, 12, 8, 316, 8, 106, 5, 4, 2, 2, 16, 480, 66, 2, 33, 4, 130, 12, 16, 38, 619, 5, 25, 124, 51, 36, 135, 48, 25, 2, 33, 6, 22, 12, 215, 28, 77, 52, 5, 14, 407, 16, 82, 2, 8, 4, 107, 117, 2, 15, 256, 4, 2, 7, 2, 5, 723, 36, 71, 43, 530, 476, 26, 400, 317, 46, 7, 4, 2, 2, 13, 104, 88, 4, 381, 15, 297, 98, 32, 2, 56, 26, 141, 6, 194, 2, 18, 4, 226, 22, 21, 134, 476, 26, 480, 5, 144, 30, 2, 18, 51, 36, 28, 224, 92, 25, 104, 4, 226, 65, 16, 38, 2, 88, 12, 16, 283, 5, 16, 2, 113, 103, 32, 15, 16, 2, 19, 178, 32]\n",
      "1\n"
     ]
    }
   ],
   "source": [
    "print(x_train[0])\n",
    "print(y_train[0])"
   ]
  },
  {
   "cell_type": "markdown",
   "metadata": {},
   "source": [
    "## 3. One-hot encoding the output\n",
    "Here, we'll turn the input vectors into (0,1)-vectors. For example, if the pre-processed vector contains the number 14, then in the processed vector, the 14th entry will be 1."
   ]
  },
  {
   "cell_type": "code",
   "execution_count": 23,
   "metadata": {},
   "outputs": [
    {
     "name": "stdout",
     "output_type": "stream",
     "text": [
      "[0. 1. 1. ... 0. 0. 0.]\n"
     ]
    }
   ],
   "source": [
    "# One-hot encoding the output into vector mode, each of length 1000\n",
    "tokenizer = Tokenizer(num_words=dict_size)\n",
    "x_train = tokenizer.sequences_to_matrix(x_train, mode='binary')\n",
    "x_test = tokenizer.sequences_to_matrix(x_test, mode='binary')\n",
    "print(x_train[0])"
   ]
  },
  {
   "cell_type": "markdown",
   "metadata": {},
   "source": [
    "And we'll also one-hot encode the output."
   ]
  },
  {
   "cell_type": "code",
   "execution_count": 24,
   "metadata": {},
   "outputs": [
    {
     "name": "stdout",
     "output_type": "stream",
     "text": [
      "(25000, 2)\n",
      "(25000, 2)\n"
     ]
    }
   ],
   "source": [
    "# One-hot encoding the output\n",
    "num_classes = 2\n",
    "y_train = keras.utils.to_categorical(y_train, num_classes)\n",
    "y_test = keras.utils.to_categorical(y_test, num_classes)\n",
    "print(y_train.shape)\n",
    "print(y_test.shape)"
   ]
  },
  {
   "cell_type": "markdown",
   "metadata": {},
   "source": [
    "## 4. Building the  model architecture\n",
    "Build a model here using sequential. Feel free to experiment with different layers and sizes! Also, experiment adding dropout to reduce overfitting."
   ]
  },
  {
   "cell_type": "code",
   "execution_count": 25,
   "metadata": {},
   "outputs": [],
   "source": [
    "# TODO: Build the model architecture\n",
    "arch = Sequential(name=\"IMDB Sentiment Analyzer MLP\")\n",
    "arch.add(Dense(512, input_dim=dict_size))\n",
    "arch.add(Activation(\"relu\"))\n",
    "arch.add(Dropout(.3))\n",
    "arch.add(Dense(1024))\n",
    "arch.add(Activation(\"relu\"))\n",
    "arch.add(Dropout(.3))\n",
    "arch.add(Dense(512))\n",
    "arch.add(Activation(\"relu\"))\n",
    "arch.add(Dropout(.3))\n",
    "arch.add(Dense(2))\n",
    "arch.add(Activation(\"sigmoid\"))\n",
    "\n",
    "# TODO: Compile the model using a loss function and an optimizer.\n",
    "arch.compile(optimizer=\"adam\", loss=\"binary_crossentropy\", metrics=[\"accuracy\"])"
   ]
  },
  {
   "cell_type": "markdown",
   "metadata": {},
   "source": [
    "## 5. Training the model\n",
    "Run the model here. Experiment with different batch_size, and number of epochs!"
   ]
  },
  {
   "cell_type": "code",
   "execution_count": 26,
   "metadata": {},
   "outputs": [
    {
     "name": "stdout",
     "output_type": "stream",
     "text": [
      "Train on 20000 samples, validate on 5000 samples\n",
      "Epoch 1/100\n",
      "20000/20000 [==============================] - 13s 675us/step - loss: 0.3578 - accuracy: 0.8407 - val_loss: 0.3221 - val_accuracy: 0.8637\n",
      "Epoch 2/100\n",
      "20000/20000 [==============================] - 14s 675us/step - loss: 0.2250 - accuracy: 0.9092 - val_loss: 0.3134 - val_accuracy: 0.8789\n",
      "Epoch 3/100\n",
      "20000/20000 [==============================] - 13s 660us/step - loss: 0.1307 - accuracy: 0.9487 - val_loss: 0.4346 - val_accuracy: 0.8688\n",
      "Epoch 4/100\n",
      "20000/20000 [==============================] - 13s 666us/step - loss: 0.0601 - accuracy: 0.9783 - val_loss: 0.6546 - val_accuracy: 0.8491\n",
      "Epoch 5/100\n",
      "20000/20000 [==============================] - 13s 658us/step - loss: 0.0414 - accuracy: 0.9853 - val_loss: 0.6924 - val_accuracy: 0.8639\n",
      "Epoch 6/100\n",
      "20000/20000 [==============================] - 13s 664us/step - loss: 0.0298 - accuracy: 0.9897 - val_loss: 0.6323 - val_accuracy: 0.8727\n",
      "Epoch 7/100\n",
      "20000/20000 [==============================] - 13s 669us/step - loss: 0.0193 - accuracy: 0.9936 - val_loss: 0.7683 - val_accuracy: 0.8723\n",
      "Epoch 8/100\n",
      "20000/20000 [==============================] - 13s 663us/step - loss: 0.0170 - accuracy: 0.9936 - val_loss: 0.7329 - val_accuracy: 0.8700\n",
      "Epoch 9/100\n",
      "20000/20000 [==============================] - 13s 659us/step - loss: 0.0177 - accuracy: 0.9947 - val_loss: 0.6919 - val_accuracy: 0.8700\n",
      "Epoch 10/100\n",
      "20000/20000 [==============================] - 13s 660us/step - loss: 0.0141 - accuracy: 0.9955 - val_loss: 0.7398 - val_accuracy: 0.8699\n",
      "Epoch 11/100\n",
      "20000/20000 [==============================] - 13s 661us/step - loss: 0.0125 - accuracy: 0.9961 - val_loss: 0.8257 - val_accuracy: 0.8704\n",
      "Epoch 12/100\n",
      "20000/20000 [==============================] - 13s 659us/step - loss: 0.0121 - accuracy: 0.9961 - val_loss: 0.9989 - val_accuracy: 0.8629\n",
      "Epoch 13/100\n",
      "20000/20000 [==============================] - 13s 663us/step - loss: 0.0150 - accuracy: 0.9943 - val_loss: 0.8149 - val_accuracy: 0.8726\n",
      "Epoch 14/100\n",
      "20000/20000 [==============================] - 13s 663us/step - loss: 0.0119 - accuracy: 0.9961 - val_loss: 0.8766 - val_accuracy: 0.8722\n",
      "Epoch 15/100\n",
      "20000/20000 [==============================] - 13s 660us/step - loss: 0.0089 - accuracy: 0.9964 - val_loss: 0.8837 - val_accuracy: 0.8659\n",
      "Epoch 16/100\n",
      "20000/20000 [==============================] - 13s 668us/step - loss: 0.0140 - accuracy: 0.9952 - val_loss: 0.8401 - val_accuracy: 0.8679\n",
      "Epoch 17/100\n",
      "20000/20000 [==============================] - 14s 683us/step - loss: 0.0106 - accuracy: 0.9966 - val_loss: 0.9149 - val_accuracy: 0.8642\n",
      "Epoch 18/100\n",
      "20000/20000 [==============================] - 13s 663us/step - loss: 0.0101 - accuracy: 0.9967 - val_loss: 0.9128 - val_accuracy: 0.8692\n",
      "Epoch 19/100\n",
      "20000/20000 [==============================] - 13s 653us/step - loss: 0.0104 - accuracy: 0.9966 - val_loss: 0.8376 - val_accuracy: 0.8686\n",
      "Epoch 20/100\n",
      "20000/20000 [==============================] - 13s 650us/step - loss: 0.0078 - accuracy: 0.9974 - val_loss: 0.9908 - val_accuracy: 0.8765\n",
      "Epoch 21/100\n",
      "20000/20000 [==============================] - 13s 648us/step - loss: 0.0090 - accuracy: 0.9975 - val_loss: 0.7805 - val_accuracy: 0.8698\n",
      "Epoch 22/100\n",
      "20000/20000 [==============================] - 13s 668us/step - loss: 0.0070 - accuracy: 0.9978 - val_loss: 0.9056 - val_accuracy: 0.8687\n",
      "Epoch 23/100\n",
      "20000/20000 [==============================] - 13s 650us/step - loss: 0.0083 - accuracy: 0.9971 - val_loss: 0.9988 - val_accuracy: 0.8692\n",
      "Epoch 24/100\n",
      "20000/20000 [==============================] - 13s 651us/step - loss: 0.0094 - accuracy: 0.9964 - val_loss: 0.8460 - val_accuracy: 0.8672\n",
      "Epoch 25/100\n",
      "20000/20000 [==============================] - 13s 652us/step - loss: 0.0091 - accuracy: 0.9970 - val_loss: 1.1226 - val_accuracy: 0.8708\n",
      "Epoch 26/100\n",
      "20000/20000 [==============================] - 13s 650us/step - loss: 0.0069 - accuracy: 0.9977 - val_loss: 1.1151 - val_accuracy: 0.8696\n",
      "Epoch 27/100\n",
      "20000/20000 [==============================] - 13s 648us/step - loss: 0.0095 - accuracy: 0.9966 - val_loss: 0.7940 - val_accuracy: 0.8686\n",
      "Epoch 28/100\n",
      "20000/20000 [==============================] - 13s 650us/step - loss: 0.0056 - accuracy: 0.9983 - val_loss: 0.9791 - val_accuracy: 0.8675\n",
      "Epoch 29/100\n",
      "20000/20000 [==============================] - 13s 656us/step - loss: 0.0076 - accuracy: 0.9979 - val_loss: 0.9256 - val_accuracy: 0.8725\n",
      "Epoch 30/100\n",
      "20000/20000 [==============================] - 15s 729us/step - loss: 0.0077 - accuracy: 0.9977 - val_loss: 0.7505 - val_accuracy: 0.8694\n",
      "Epoch 31/100\n",
      "20000/20000 [==============================] - 13s 667us/step - loss: 0.0092 - accuracy: 0.9974 - val_loss: 0.8527 - val_accuracy: 0.8727\n",
      "Epoch 32/100\n",
      "20000/20000 [==============================] - 13s 656us/step - loss: 0.0068 - accuracy: 0.9979 - val_loss: 0.9543 - val_accuracy: 0.8731\n",
      "Epoch 33/100\n",
      "20000/20000 [==============================] - 14s 679us/step - loss: 0.0076 - accuracy: 0.9977 - val_loss: 0.8660 - val_accuracy: 0.8731\n",
      "Epoch 34/100\n",
      "20000/20000 [==============================] - 14s 706us/step - loss: 0.0061 - accuracy: 0.9980 - val_loss: 0.8553 - val_accuracy: 0.8698\n",
      "Epoch 35/100\n",
      "20000/20000 [==============================] - 13s 655us/step - loss: 0.0061 - accuracy: 0.9983 - val_loss: 1.0481 - val_accuracy: 0.8673\n",
      "Epoch 36/100\n",
      "20000/20000 [==============================] - 13s 653us/step - loss: 0.0058 - accuracy: 0.9984 - val_loss: 0.9803 - val_accuracy: 0.8768\n",
      "Epoch 37/100\n",
      "20000/20000 [==============================] - 13s 649us/step - loss: 0.0097 - accuracy: 0.9969 - val_loss: 0.8226 - val_accuracy: 0.8751\n",
      "Epoch 38/100\n",
      "20000/20000 [==============================] - 13s 658us/step - loss: 0.0018 - accuracy: 0.9992 - val_loss: 1.8306 - val_accuracy: 0.8530\n",
      "Epoch 39/100\n",
      "20000/20000 [==============================] - 13s 654us/step - loss: 0.0050 - accuracy: 0.9985 - val_loss: 1.1300 - val_accuracy: 0.8763\n",
      "Epoch 40/100\n",
      "20000/20000 [==============================] - 13s 658us/step - loss: 0.0073 - accuracy: 0.9983 - val_loss: 0.8343 - val_accuracy: 0.8722\n",
      "Epoch 41/100\n",
      "20000/20000 [==============================] - 13s 663us/step - loss: 0.0098 - accuracy: 0.9975 - val_loss: 1.0137 - val_accuracy: 0.8755\n",
      "Epoch 42/100\n",
      "20000/20000 [==============================] - 13s 663us/step - loss: 0.0102 - accuracy: 0.9969 - val_loss: 1.0642 - val_accuracy: 0.8746\n",
      "Epoch 43/100\n",
      "20000/20000 [==============================] - 13s 653us/step - loss: 0.0064 - accuracy: 0.9983 - val_loss: 0.9137 - val_accuracy: 0.8765\n",
      "Epoch 44/100\n",
      "20000/20000 [==============================] - 13s 649us/step - loss: 0.0052 - accuracy: 0.9986 - val_loss: 0.9860 - val_accuracy: 0.8760\n",
      "Epoch 45/100\n",
      "20000/20000 [==============================] - 13s 655us/step - loss: 0.0033 - accuracy: 0.9991 - val_loss: 1.1301 - val_accuracy: 0.8727\n",
      "Epoch 46/100\n",
      "20000/20000 [==============================] - 13s 654us/step - loss: 0.0047 - accuracy: 0.9987 - val_loss: 1.0784 - val_accuracy: 0.8755\n",
      "Epoch 47/100\n",
      "20000/20000 [==============================] - 13s 655us/step - loss: 0.0043 - accuracy: 0.9988 - val_loss: 1.1708 - val_accuracy: 0.8720\n",
      "Epoch 48/100\n",
      "20000/20000 [==============================] - 13s 665us/step - loss: 0.0074 - accuracy: 0.9983 - val_loss: 1.0861 - val_accuracy: 0.8732\n",
      "Epoch 49/100\n",
      "20000/20000 [==============================] - 13s 672us/step - loss: 0.0030 - accuracy: 0.9991 - val_loss: 1.3313 - val_accuracy: 0.8767\n",
      "Epoch 50/100\n",
      "20000/20000 [==============================] - 13s 653us/step - loss: 0.0053 - accuracy: 0.9986 - val_loss: 1.0076 - val_accuracy: 0.8783\n",
      "Epoch 51/100\n",
      "20000/20000 [==============================] - 13s 649us/step - loss: 0.0092 - accuracy: 0.9981 - val_loss: 1.1080 - val_accuracy: 0.8722\n",
      "Epoch 52/100\n",
      "20000/20000 [==============================] - 13s 654us/step - loss: 0.0031 - accuracy: 0.9992 - val_loss: 1.1224 - val_accuracy: 0.8733\n",
      "Epoch 53/100\n",
      "20000/20000 [==============================] - 13s 659us/step - loss: 0.0043 - accuracy: 0.9983 - val_loss: 0.9916 - val_accuracy: 0.8719\n",
      "Epoch 54/100\n",
      "20000/20000 [==============================] - 13s 660us/step - loss: 0.0051 - accuracy: 0.9983 - val_loss: 1.0517 - val_accuracy: 0.8758\n"
     ]
    },
    {
     "name": "stdout",
     "output_type": "stream",
     "text": [
      "Epoch 55/100\n",
      "20000/20000 [==============================] - 14s 693us/step - loss: 0.0038 - accuracy: 0.9991 - val_loss: 1.4385 - val_accuracy: 0.8738\n",
      "Epoch 56/100\n",
      "20000/20000 [==============================] - 14s 691us/step - loss: 0.0067 - accuracy: 0.9983 - val_loss: 1.3646 - val_accuracy: 0.8731\n",
      "Epoch 57/100\n",
      "  960/20000 [>.............................] - ETA: 12s - loss: 0.0015 - accuracy: 1.0000"
     ]
    },
    {
     "ename": "KeyboardInterrupt",
     "evalue": "",
     "output_type": "error",
     "traceback": [
      "\u001b[1;31m---------------------------------------------------------------------------\u001b[0m",
      "\u001b[1;31mKeyboardInterrupt\u001b[0m                         Traceback (most recent call last)",
      "\u001b[1;32m<ipython-input-26-836dd7716aee>\u001b[0m in \u001b[0;36m<module>\u001b[1;34m\u001b[0m\n\u001b[0;32m      1\u001b[0m \u001b[1;31m# TODO: Run the model. Feel free to experiment with different batch sizes and number of epochs.\u001b[0m\u001b[1;33m\u001b[0m\u001b[1;33m\u001b[0m\u001b[1;33m\u001b[0m\u001b[0m\n\u001b[1;32m----> 2\u001b[1;33m \u001b[0march\u001b[0m\u001b[1;33m.\u001b[0m\u001b[0mfit\u001b[0m\u001b[1;33m(\u001b[0m\u001b[0mx\u001b[0m\u001b[1;33m=\u001b[0m\u001b[0mx_train\u001b[0m\u001b[1;33m,\u001b[0m \u001b[0my\u001b[0m\u001b[1;33m=\u001b[0m\u001b[0my_train\u001b[0m\u001b[1;33m,\u001b[0m \u001b[0mbatch_size\u001b[0m\u001b[1;33m=\u001b[0m\u001b[1;36m64\u001b[0m\u001b[1;33m,\u001b[0m \u001b[0mepochs\u001b[0m\u001b[1;33m=\u001b[0m\u001b[1;36m100\u001b[0m\u001b[1;33m,\u001b[0m \u001b[0mverbose\u001b[0m\u001b[1;33m=\u001b[0m\u001b[1;36m1\u001b[0m\u001b[1;33m,\u001b[0m \u001b[0mvalidation_split\u001b[0m\u001b[1;33m=\u001b[0m\u001b[1;36m0.2\u001b[0m\u001b[1;33m)\u001b[0m\u001b[1;33m;\u001b[0m\u001b[1;33m\u001b[0m\u001b[1;33m\u001b[0m\u001b[0m\n\u001b[0m",
      "\u001b[1;32mC:\\Programy\\Anaconda\\envs\\KerasTfEnv\\lib\\site-packages\\keras\\engine\\training.py\u001b[0m in \u001b[0;36mfit\u001b[1;34m(self, x, y, batch_size, epochs, verbose, callbacks, validation_split, validation_data, shuffle, class_weight, sample_weight, initial_epoch, steps_per_epoch, validation_steps, validation_freq, max_queue_size, workers, use_multiprocessing, **kwargs)\u001b[0m\n\u001b[0;32m   1237\u001b[0m                                         \u001b[0msteps_per_epoch\u001b[0m\u001b[1;33m=\u001b[0m\u001b[0msteps_per_epoch\u001b[0m\u001b[1;33m,\u001b[0m\u001b[1;33m\u001b[0m\u001b[1;33m\u001b[0m\u001b[0m\n\u001b[0;32m   1238\u001b[0m                                         \u001b[0mvalidation_steps\u001b[0m\u001b[1;33m=\u001b[0m\u001b[0mvalidation_steps\u001b[0m\u001b[1;33m,\u001b[0m\u001b[1;33m\u001b[0m\u001b[1;33m\u001b[0m\u001b[0m\n\u001b[1;32m-> 1239\u001b[1;33m                                         validation_freq=validation_freq)\n\u001b[0m\u001b[0;32m   1240\u001b[0m \u001b[1;33m\u001b[0m\u001b[0m\n\u001b[0;32m   1241\u001b[0m     def evaluate(self,\n",
      "\u001b[1;32mC:\\Programy\\Anaconda\\envs\\KerasTfEnv\\lib\\site-packages\\keras\\engine\\training_arrays.py\u001b[0m in \u001b[0;36mfit_loop\u001b[1;34m(model, fit_function, fit_inputs, out_labels, batch_size, epochs, verbose, callbacks, val_function, val_inputs, shuffle, initial_epoch, steps_per_epoch, validation_steps, validation_freq)\u001b[0m\n\u001b[0;32m    194\u001b[0m                     \u001b[0mins_batch\u001b[0m\u001b[1;33m[\u001b[0m\u001b[0mi\u001b[0m\u001b[1;33m]\u001b[0m \u001b[1;33m=\u001b[0m \u001b[0mins_batch\u001b[0m\u001b[1;33m[\u001b[0m\u001b[0mi\u001b[0m\u001b[1;33m]\u001b[0m\u001b[1;33m.\u001b[0m\u001b[0mtoarray\u001b[0m\u001b[1;33m(\u001b[0m\u001b[1;33m)\u001b[0m\u001b[1;33m\u001b[0m\u001b[1;33m\u001b[0m\u001b[0m\n\u001b[0;32m    195\u001b[0m \u001b[1;33m\u001b[0m\u001b[0m\n\u001b[1;32m--> 196\u001b[1;33m                 \u001b[0mouts\u001b[0m \u001b[1;33m=\u001b[0m \u001b[0mfit_function\u001b[0m\u001b[1;33m(\u001b[0m\u001b[0mins_batch\u001b[0m\u001b[1;33m)\u001b[0m\u001b[1;33m\u001b[0m\u001b[1;33m\u001b[0m\u001b[0m\n\u001b[0m\u001b[0;32m    197\u001b[0m                 \u001b[0mouts\u001b[0m \u001b[1;33m=\u001b[0m \u001b[0mto_list\u001b[0m\u001b[1;33m(\u001b[0m\u001b[0mouts\u001b[0m\u001b[1;33m)\u001b[0m\u001b[1;33m\u001b[0m\u001b[1;33m\u001b[0m\u001b[0m\n\u001b[0;32m    198\u001b[0m                 \u001b[1;32mfor\u001b[0m \u001b[0ml\u001b[0m\u001b[1;33m,\u001b[0m \u001b[0mo\u001b[0m \u001b[1;32min\u001b[0m \u001b[0mzip\u001b[0m\u001b[1;33m(\u001b[0m\u001b[0mout_labels\u001b[0m\u001b[1;33m,\u001b[0m \u001b[0mouts\u001b[0m\u001b[1;33m)\u001b[0m\u001b[1;33m:\u001b[0m\u001b[1;33m\u001b[0m\u001b[1;33m\u001b[0m\u001b[0m\n",
      "\u001b[1;32mC:\\Programy\\Anaconda\\envs\\KerasTfEnv\\lib\\site-packages\\tensorflow_core\\python\\keras\\backend.py\u001b[0m in \u001b[0;36m__call__\u001b[1;34m(self, inputs)\u001b[0m\n\u001b[0;32m   3725\u001b[0m         \u001b[0mvalue\u001b[0m \u001b[1;33m=\u001b[0m \u001b[0mmath_ops\u001b[0m\u001b[1;33m.\u001b[0m\u001b[0mcast\u001b[0m\u001b[1;33m(\u001b[0m\u001b[0mvalue\u001b[0m\u001b[1;33m,\u001b[0m \u001b[0mtensor\u001b[0m\u001b[1;33m.\u001b[0m\u001b[0mdtype\u001b[0m\u001b[1;33m)\u001b[0m\u001b[1;33m\u001b[0m\u001b[1;33m\u001b[0m\u001b[0m\n\u001b[0;32m   3726\u001b[0m       \u001b[0mconverted_inputs\u001b[0m\u001b[1;33m.\u001b[0m\u001b[0mappend\u001b[0m\u001b[1;33m(\u001b[0m\u001b[0mvalue\u001b[0m\u001b[1;33m)\u001b[0m\u001b[1;33m\u001b[0m\u001b[1;33m\u001b[0m\u001b[0m\n\u001b[1;32m-> 3727\u001b[1;33m     \u001b[0moutputs\u001b[0m \u001b[1;33m=\u001b[0m \u001b[0mself\u001b[0m\u001b[1;33m.\u001b[0m\u001b[0m_graph_fn\u001b[0m\u001b[1;33m(\u001b[0m\u001b[1;33m*\u001b[0m\u001b[0mconverted_inputs\u001b[0m\u001b[1;33m)\u001b[0m\u001b[1;33m\u001b[0m\u001b[1;33m\u001b[0m\u001b[0m\n\u001b[0m\u001b[0;32m   3728\u001b[0m \u001b[1;33m\u001b[0m\u001b[0m\n\u001b[0;32m   3729\u001b[0m     \u001b[1;31m# EagerTensor.numpy() will often make a copy to ensure memory safety.\u001b[0m\u001b[1;33m\u001b[0m\u001b[1;33m\u001b[0m\u001b[1;33m\u001b[0m\u001b[0m\n",
      "\u001b[1;32mC:\\Programy\\Anaconda\\envs\\KerasTfEnv\\lib\\site-packages\\tensorflow_core\\python\\eager\\function.py\u001b[0m in \u001b[0;36m__call__\u001b[1;34m(self, *args, **kwargs)\u001b[0m\n\u001b[0;32m   1549\u001b[0m       \u001b[0mTypeError\u001b[0m\u001b[1;33m:\u001b[0m \u001b[0mFor\u001b[0m \u001b[0minvalid\u001b[0m \u001b[0mpositional\u001b[0m\u001b[1;33m/\u001b[0m\u001b[0mkeyword\u001b[0m \u001b[0margument\u001b[0m \u001b[0mcombinations\u001b[0m\u001b[1;33m.\u001b[0m\u001b[1;33m\u001b[0m\u001b[1;33m\u001b[0m\u001b[0m\n\u001b[0;32m   1550\u001b[0m     \"\"\"\n\u001b[1;32m-> 1551\u001b[1;33m     \u001b[1;32mreturn\u001b[0m \u001b[0mself\u001b[0m\u001b[1;33m.\u001b[0m\u001b[0m_call_impl\u001b[0m\u001b[1;33m(\u001b[0m\u001b[0margs\u001b[0m\u001b[1;33m,\u001b[0m \u001b[0mkwargs\u001b[0m\u001b[1;33m)\u001b[0m\u001b[1;33m\u001b[0m\u001b[1;33m\u001b[0m\u001b[0m\n\u001b[0m\u001b[0;32m   1552\u001b[0m \u001b[1;33m\u001b[0m\u001b[0m\n\u001b[0;32m   1553\u001b[0m   \u001b[1;32mdef\u001b[0m \u001b[0m_call_impl\u001b[0m\u001b[1;33m(\u001b[0m\u001b[0mself\u001b[0m\u001b[1;33m,\u001b[0m \u001b[0margs\u001b[0m\u001b[1;33m,\u001b[0m \u001b[0mkwargs\u001b[0m\u001b[1;33m,\u001b[0m \u001b[0mcancellation_manager\u001b[0m\u001b[1;33m=\u001b[0m\u001b[1;32mNone\u001b[0m\u001b[1;33m)\u001b[0m\u001b[1;33m:\u001b[0m\u001b[1;33m\u001b[0m\u001b[1;33m\u001b[0m\u001b[0m\n",
      "\u001b[1;32mC:\\Programy\\Anaconda\\envs\\KerasTfEnv\\lib\\site-packages\\tensorflow_core\\python\\eager\\function.py\u001b[0m in \u001b[0;36m_call_impl\u001b[1;34m(self, args, kwargs, cancellation_manager)\u001b[0m\n\u001b[0;32m   1589\u001b[0m       raise TypeError(\"Keyword arguments {} unknown. Expected {}.\".format(\n\u001b[0;32m   1590\u001b[0m           list(kwargs.keys()), list(self._arg_keywords)))\n\u001b[1;32m-> 1591\u001b[1;33m     \u001b[1;32mreturn\u001b[0m \u001b[0mself\u001b[0m\u001b[1;33m.\u001b[0m\u001b[0m_call_flat\u001b[0m\u001b[1;33m(\u001b[0m\u001b[0margs\u001b[0m\u001b[1;33m,\u001b[0m \u001b[0mself\u001b[0m\u001b[1;33m.\u001b[0m\u001b[0mcaptured_inputs\u001b[0m\u001b[1;33m,\u001b[0m \u001b[0mcancellation_manager\u001b[0m\u001b[1;33m)\u001b[0m\u001b[1;33m\u001b[0m\u001b[1;33m\u001b[0m\u001b[0m\n\u001b[0m\u001b[0;32m   1592\u001b[0m \u001b[1;33m\u001b[0m\u001b[0m\n\u001b[0;32m   1593\u001b[0m   \u001b[1;32mdef\u001b[0m \u001b[0m_filtered_call\u001b[0m\u001b[1;33m(\u001b[0m\u001b[0mself\u001b[0m\u001b[1;33m,\u001b[0m \u001b[0margs\u001b[0m\u001b[1;33m,\u001b[0m \u001b[0mkwargs\u001b[0m\u001b[1;33m)\u001b[0m\u001b[1;33m:\u001b[0m\u001b[1;33m\u001b[0m\u001b[1;33m\u001b[0m\u001b[0m\n",
      "\u001b[1;32mC:\\Programy\\Anaconda\\envs\\KerasTfEnv\\lib\\site-packages\\tensorflow_core\\python\\eager\\function.py\u001b[0m in \u001b[0;36m_call_flat\u001b[1;34m(self, args, captured_inputs, cancellation_manager)\u001b[0m\n\u001b[0;32m   1690\u001b[0m       \u001b[1;31m# No tape is watching; skip to running the function.\u001b[0m\u001b[1;33m\u001b[0m\u001b[1;33m\u001b[0m\u001b[1;33m\u001b[0m\u001b[0m\n\u001b[0;32m   1691\u001b[0m       return self._build_call_outputs(self._inference_function.call(\n\u001b[1;32m-> 1692\u001b[1;33m           ctx, args, cancellation_manager=cancellation_manager))\n\u001b[0m\u001b[0;32m   1693\u001b[0m     forward_backward = self._select_forward_and_backward_functions(\n\u001b[0;32m   1694\u001b[0m         \u001b[0margs\u001b[0m\u001b[1;33m,\u001b[0m\u001b[1;33m\u001b[0m\u001b[1;33m\u001b[0m\u001b[0m\n",
      "\u001b[1;32mC:\\Programy\\Anaconda\\envs\\KerasTfEnv\\lib\\site-packages\\tensorflow_core\\python\\eager\\function.py\u001b[0m in \u001b[0;36mcall\u001b[1;34m(self, ctx, args, cancellation_manager)\u001b[0m\n\u001b[0;32m    543\u001b[0m               \u001b[0minputs\u001b[0m\u001b[1;33m=\u001b[0m\u001b[0margs\u001b[0m\u001b[1;33m,\u001b[0m\u001b[1;33m\u001b[0m\u001b[1;33m\u001b[0m\u001b[0m\n\u001b[0;32m    544\u001b[0m               \u001b[0mattrs\u001b[0m\u001b[1;33m=\u001b[0m\u001b[1;33m(\u001b[0m\u001b[1;34m\"executor_type\"\u001b[0m\u001b[1;33m,\u001b[0m \u001b[0mexecutor_type\u001b[0m\u001b[1;33m,\u001b[0m \u001b[1;34m\"config_proto\"\u001b[0m\u001b[1;33m,\u001b[0m \u001b[0mconfig\u001b[0m\u001b[1;33m)\u001b[0m\u001b[1;33m,\u001b[0m\u001b[1;33m\u001b[0m\u001b[1;33m\u001b[0m\u001b[0m\n\u001b[1;32m--> 545\u001b[1;33m               ctx=ctx)\n\u001b[0m\u001b[0;32m    546\u001b[0m         \u001b[1;32melse\u001b[0m\u001b[1;33m:\u001b[0m\u001b[1;33m\u001b[0m\u001b[1;33m\u001b[0m\u001b[0m\n\u001b[0;32m    547\u001b[0m           outputs = execute.execute_with_cancellation(\n",
      "\u001b[1;32mC:\\Programy\\Anaconda\\envs\\KerasTfEnv\\lib\\site-packages\\tensorflow_core\\python\\eager\\execute.py\u001b[0m in \u001b[0;36mquick_execute\u001b[1;34m(op_name, num_outputs, inputs, attrs, ctx, name)\u001b[0m\n\u001b[0;32m     59\u001b[0m     tensors = pywrap_tensorflow.TFE_Py_Execute(ctx._handle, device_name,\n\u001b[0;32m     60\u001b[0m                                                \u001b[0mop_name\u001b[0m\u001b[1;33m,\u001b[0m \u001b[0minputs\u001b[0m\u001b[1;33m,\u001b[0m \u001b[0mattrs\u001b[0m\u001b[1;33m,\u001b[0m\u001b[1;33m\u001b[0m\u001b[1;33m\u001b[0m\u001b[0m\n\u001b[1;32m---> 61\u001b[1;33m                                                num_outputs)\n\u001b[0m\u001b[0;32m     62\u001b[0m   \u001b[1;32mexcept\u001b[0m \u001b[0mcore\u001b[0m\u001b[1;33m.\u001b[0m\u001b[0m_NotOkStatusException\u001b[0m \u001b[1;32mas\u001b[0m \u001b[0me\u001b[0m\u001b[1;33m:\u001b[0m\u001b[1;33m\u001b[0m\u001b[1;33m\u001b[0m\u001b[0m\n\u001b[0;32m     63\u001b[0m     \u001b[1;32mif\u001b[0m \u001b[0mname\u001b[0m \u001b[1;32mis\u001b[0m \u001b[1;32mnot\u001b[0m \u001b[1;32mNone\u001b[0m\u001b[1;33m:\u001b[0m\u001b[1;33m\u001b[0m\u001b[1;33m\u001b[0m\u001b[0m\n",
      "\u001b[1;31mKeyboardInterrupt\u001b[0m: "
     ]
    }
   ],
   "source": [
    "# TODO: Run the model. Feel free to experiment with different batch sizes and number of epochs.\n",
    "arch.fit(x=x_train, y=y_train, batch_size=64, epochs=100, verbose=1, validation_split=0.2);"
   ]
  },
  {
   "cell_type": "markdown",
   "metadata": {},
   "source": [
    "## 6. Evaluating the model\n",
    "This will give you the accuracy of the model, as evaluated on the testing set. Can you get something over 85%?"
   ]
  },
  {
   "cell_type": "code",
   "execution_count": 27,
   "metadata": {},
   "outputs": [
    {
     "name": "stdout",
     "output_type": "stream",
     "text": [
      "Accuracy:  0.8679199814796448\n"
     ]
    }
   ],
   "source": [
    "score = arch.evaluate(x_test, y_test, verbose=0)\n",
    "print(\"Accuracy: \", score[1])"
   ]
  }
 ],
 "metadata": {
  "kernelspec": {
   "display_name": "Python 3",
   "language": "python",
   "name": "python3"
  },
  "language_info": {
   "codemirror_mode": {
    "name": "ipython",
    "version": 3
   },
   "file_extension": ".py",
   "mimetype": "text/x-python",
   "name": "python",
   "nbconvert_exporter": "python",
   "pygments_lexer": "ipython3",
   "version": "3.6.10"
  }
 },
 "nbformat": 4,
 "nbformat_minor": 2
}
