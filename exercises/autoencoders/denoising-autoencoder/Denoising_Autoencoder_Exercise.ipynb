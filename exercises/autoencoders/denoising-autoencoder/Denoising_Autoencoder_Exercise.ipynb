{
 "cells": [
  {
   "cell_type": "markdown",
   "metadata": {},
   "source": [
    "# Denoising Autoencoder\n",
    "\n",
    "Sticking with the MNIST dataset, let's add noise to our data and see if we can define and train an autoencoder to _de_-noise the images.\n",
    "\n",
    "<img src='notebook_ims/autoencoder_denoise.png' width=70%/>\n",
    "\n",
    "Let's get started by importing our libraries and getting the dataset."
   ]
  },
  {
   "cell_type": "code",
   "execution_count": 1,
   "metadata": {},
   "outputs": [],
   "source": [
    "import torch\n",
    "import numpy as np\n",
    "from torchvision import datasets\n",
    "import torchvision.transforms as transforms\n",
    "\n",
    "# convert data to torch.FloatTensor\n",
    "transform = transforms.ToTensor()\n",
    "\n",
    "# load the training and test datasets\n",
    "train_data = datasets.MNIST(root='data', train=True,\n",
    "                                   download=True, transform=transform)\n",
    "test_data = datasets.MNIST(root='data', train=False,\n",
    "                                  download=True, transform=transform)\n",
    "\n",
    "# Create training and test dataloaders\n",
    "num_workers = 0\n",
    "# how many samples per batch to load\n",
    "batch_size = 20\n",
    "\n",
    "# prepare data loaders\n",
    "train_loader = torch.utils.data.DataLoader(train_data, batch_size=batch_size, num_workers=num_workers)\n",
    "test_loader = torch.utils.data.DataLoader(test_data, batch_size=batch_size, num_workers=num_workers)\n",
    "\n",
    "device = torch.device(\"cuda\")"
   ]
  },
  {
   "cell_type": "markdown",
   "metadata": {},
   "source": [
    "### Visualize the Data"
   ]
  },
  {
   "cell_type": "code",
   "execution_count": 2,
   "metadata": {},
   "outputs": [
    {
     "data": {
      "image/png": "[encoded data removed]",
      "text/plain": [
       "<Figure size 360x360 with 1 Axes>"
      ]
     },
     "metadata": {
      "needs_background": "light"
     },
     "output_type": "display_data"
    }
   ],
   "source": [
    "import matplotlib.pyplot as plt\n",
    "%matplotlib inline\n",
    "    \n",
    "# obtain one batch of training images\n",
    "dataiter = iter(train_loader)\n",
    "images, labels = dataiter.next()\n",
    "images = images.numpy()\n",
    "\n",
    "# get one image from the batch\n",
    "img = np.squeeze(images[0])\n",
    "\n",
    "fig = plt.figure(figsize = (5,5)) \n",
    "ax = fig.add_subplot(111)\n",
    "ax.imshow(img, cmap='gray');"
   ]
  },
  {
   "cell_type": "markdown",
   "metadata": {},
   "source": [
    "---\n",
    "# Denoising\n",
    "\n",
    "As I've mentioned before, autoencoders like the ones you've built so far aren't too useful in practive. However, they can be used to denoise images quite successfully just by training the network on noisy images. We can create the noisy images ourselves by adding Gaussian noise to the training images, then clipping the values to be between 0 and 1.\n",
    "\n",
    ">**We'll use noisy images as input and the original, clean images as targets.** \n",
    "\n",
    "Below is an example of some of the noisy images I generated and the associated, denoised images.\n",
    "\n",
    "<img src='notebook_ims/denoising.png' />\n",
    "\n",
    "\n",
    "Since this is a harder problem for the network, we'll want to use _deeper_ convolutional layers here; layers with more feature maps. You might also consider adding additional layers. I suggest starting with a depth of 32 for the convolutional layers in the encoder, and the same depths going backward through the decoder.\n",
    "\n",
    "#### TODO: Build the network for the denoising autoencoder. Add deeper and/or additional layers compared to the model above."
   ]
  },
  {
   "cell_type": "code",
   "execution_count": 3,
   "metadata": {},
   "outputs": [
    {
     "data": {
      "text/plain": [
       "{'Conv2d': <function cnn_shape.get_conv2d_output_shape(input_shape: torch.Size, layer: torch.nn.modules.conv.Conv2d) -> torch.Size>,\n",
       " 'MaxPool2d': <function cnn_shape.get_maxpool2d_output_shape(input_shape: torch.Size, layer: torch.nn.modules.pooling.MaxPool2d) -> torch.Size>,\n",
       " 'ConvTranspose2d': <function cnn_shape.get_conv_transpose2d_output_shape(input_shape: torch.Size, layer: torch.nn.modules.conv.ConvTranspose2d) -> torch.Size>,\n",
       " 'Upsample': <function cnn_shape.get_upsample_output_shape(input_shape: torch.Size, layer: torch.nn.modules.upsampling.Upsample) -> torch.Size>,\n",
       " 'Dropout': <function cnn_shape.__ignore_module(input_shape: torch.Size, _module: torch.nn.modules.module.Module) -> torch.Size>,\n",
       " 'BatchNorm2d': <function cnn_shape.__ignore_module(input_shape: torch.Size, _module: torch.nn.modules.module.Module) -> torch.Size>}"
      ]
     },
     "execution_count": 3,
     "metadata": {},
     "output_type": "execute_result"
    }
   ],
   "source": [
    "import sys\n",
    "sys.path.append(\"../../cnn_shape\")\n",
    "import cnn_shape\n",
    "\n",
    "cnn_shape.layer_type_to_function_map"
   ]
  },
  {
   "cell_type": "code",
   "execution_count": 11,
   "metadata": {},
   "outputs": [
    {
     "name": "stdout",
     "output_type": "stream",
     "text": [
      "torch.Size([20, 1, 28, 28])\n",
      "encoder_conv1 torch.Size([20, 32, 28, 28])\n",
      "norm1 torch.Size([20, 32, 28, 28])\n",
      "encoder_pool1 torch.Size([20, 32, 14, 14])\n",
      "encoder_conv2 torch.Size([20, 16, 14, 14])\n",
      "norm2 torch.Size([20, 16, 14, 14])\n",
      "encoder_pool2 torch.Size([20, 16, 7, 7])\n",
      "decoder_upsample1 torch.Size([20, 16, 14, 14])\n",
      "decoder_conv1 torch.Size([20, 32, 14, 14])\n",
      "decoder_upsample2 torch.Size([20, 32, 28, 28])\n",
      "decoder_conv2 torch.Size([20, 1, 28, 28])\n"
     ]
    }
   ],
   "source": [
    "import torch.nn as nn\n",
    "import torch.nn.functional as F\n",
    "\n",
    "images, labels = next(dataiter)\n",
    "input_size = images.shape[2]\n",
    "\n",
    "# define the NN architecture\n",
    "class ConvDenoiser(nn.Module):\n",
    "    def __init__(self):\n",
    "        super(ConvDenoiser, self).__init__()\n",
    "        self.encoder_conv1 = nn.Conv2d(1, 32, kernel_size=3, padding=1)\n",
    "        self.norm1 = nn.BatchNorm2d(32)\n",
    "        self.encoder_pool1 = nn.MaxPool2d(kernel_size=2, stride=2)\n",
    "        self.encoder_conv2 = nn.Conv2d(32, 16, kernel_size=3, padding=1)\n",
    "        self.norm2 = nn.BatchNorm2d(16)\n",
    "        self.encoder_pool2 = nn.MaxPool2d(kernel_size=2, stride=2)\n",
    "        \n",
    "        self.decoder_upsample1 = nn.Upsample(scale_factor=2, mode=\"bilinear\", align_corners=False)\n",
    "        self.decoder_conv1 = nn.Conv2d(16, 32, kernel_size=3, padding=1)\n",
    "        self.decoder_upsample2 = nn.Upsample(scale_factor=2, mode=\"bilinear\", align_corners=False)\n",
    "        self.decoder_conv2 = nn.Conv2d(32, 1, kernel_size=3, padding=1)\n",
    "        \n",
    "\n",
    "    def __encode(self, input):\n",
    "        conv1 = F.leaky_relu(self.encoder_conv1(input))\n",
    "        norm1 = self.norm1(conv1)\n",
    "        pool1 = self.encoder_pool1(norm1)\n",
    "        conv2 = F.leaky_relu(self.encoder_conv2(pool1))\n",
    "        norm2 = self.norm2(conv2)\n",
    "        pool2 = self.encoder_pool2(norm2)\n",
    "        return pool2\n",
    "    \n",
    "    def __decode(self, encoded):\n",
    "        upsample1 = self.decoder_upsample1(encoded)\n",
    "        conv1 = F.leaky_relu(self.decoder_conv1(upsample1))\n",
    "        upsample2 = self.decoder_upsample2(conv1)\n",
    "        output = torch.sigmoid(self.decoder_conv2(upsample2))\n",
    "        return output\n",
    "        \n",
    "    def forward(self, x):\n",
    "        encoded = self.__encode(x)\n",
    "        decoded = self.__decode(encoded)\n",
    "        return decoded\n",
    "\n",
    "# initialize the NN\n",
    "model = ConvDenoiser()\n",
    "print(images.shape)\n",
    "shape_dict = cnn_shape.get_layer_output_shapes(images.shape, model)\n",
    "for layer in shape_dict:\n",
    "    print(layer, shape_dict[layer])"
   ]
  },
  {
   "cell_type": "markdown",
   "metadata": {},
   "source": [
    "---\n",
    "## Training\n",
    "\n",
    "We are only concerned with the training images, which we can get from the `train_loader`.\n",
    "\n",
    ">In this case, we are actually **adding some noise** to these images and we'll feed these `noisy_imgs` to our model. The model will produce reconstructed images based on the noisy input. But, we want it to produce _normal_ un-noisy images, and so, when we calculate the loss, we will still compare the reconstructed outputs to the original images!\n",
    "\n",
    "Because we're comparing pixel values in input and output images, it will be best to use a loss that is meant for a regression task. Regression is all about comparing quantities rather than probabilistic values. So, in this case, I'll use `MSELoss`. And compare output images and input images as follows:\n",
    "```\n",
    "loss = criterion(outputs, images)\n",
    "```"
   ]
  },
  {
   "cell_type": "code",
   "execution_count": 12,
   "metadata": {},
   "outputs": [],
   "source": [
    "model.to(device)\n",
    "\n",
    "# specify loss function\n",
    "criterion = nn.MSELoss()\n",
    "\n",
    "# specify loss function\n",
    "optimizer = torch.optim.Adam(model.parameters(), lr=0.001)"
   ]
  },
  {
   "cell_type": "code",
   "execution_count": 20,
   "metadata": {},
   "outputs": [
    {
     "name": "stdout",
     "output_type": "stream",
     "text": [
      "Epoch: 1 \tTraining Loss: 0.495925 \tAverage image brightness: 0.337\n",
      "Epoch: 2 \tTraining Loss: 0.494317 \tAverage image brightness: 0.337\n",
      "Epoch: 3 \tTraining Loss: 0.492084 \tAverage image brightness: 0.337\n",
      "Epoch: 4 \tTraining Loss: 0.491777 \tAverage image brightness: 0.337\n",
      "Epoch: 5 \tTraining Loss: 0.490763 \tAverage image brightness: 0.337\n",
      "Epoch: 6 \tTraining Loss: 0.490054 \tAverage image brightness: 0.337\n",
      "Epoch: 7 \tTraining Loss: 0.487543 \tAverage image brightness: 0.337\n",
      "Epoch: 8 \tTraining Loss: 0.487153 \tAverage image brightness: 0.337\n"
     ]
    }
   ],
   "source": [
    "# number of epochs to train the model\n",
    "n_epochs = 8\n",
    "\n",
    "# for adding noise to images\n",
    "noise_factor=0.8\n",
    "\n",
    "for epoch in range(1, n_epochs+1):\n",
    "    # monitor training loss\n",
    "    train_loss = 0.0\n",
    "    \n",
    "    ###################\n",
    "    # train the model #\n",
    "    ###################\n",
    "    \n",
    "    avg_brightness = 0\n",
    "    \n",
    "    for data in train_loader:\n",
    "        # _ stands in for labels, here\n",
    "        # no need to flatten images\n",
    "        images, _ = data\n",
    "        \n",
    "        ## add random noise to the input images\n",
    "        noisy_imgs = images + noise_factor * torch.randn(*images.shape)\n",
    "        # Clip the images to be between 0 and 1\n",
    "        noisy_imgs = np.clip(noisy_imgs, 0., 1.)\n",
    "        \n",
    "        avg_brightness += torch.mean(noisy_imgs)\n",
    "                \n",
    "        # clear the gradients of all optimized variables\n",
    "        optimizer.zero_grad()\n",
    "        ## forward pass: compute predicted outputs by passing *noisy* images to the model\n",
    "        outputs = model(noisy_imgs.to(device))\n",
    "        # calculate the loss\n",
    "        # the \"target\" is still the original, not-noisy images\n",
    "        loss = criterion(outputs.to(device), images.to(device))\n",
    "        # backward pass: compute gradient of the loss with respect to model parameters\n",
    "        loss.backward()\n",
    "        # perform a single optimization step (parameter update)\n",
    "        optimizer.step()\n",
    "        # update running training loss\n",
    "        train_loss += loss.item()*images.size(0)\n",
    "            \n",
    "    # print avg training statistics \n",
    "    train_loss = train_loss/len(train_loader)\n",
    "    avg_brightness = avg_brightness/len(train_loader)\n",
    "    print('Epoch: {} \\tTraining Loss: {:.6f} \\tAverage image brightness: {:.3f}'\n",
    "          .format(epoch, train_loss, avg_brightness))"
   ]
  },
  {
   "cell_type": "markdown",
   "metadata": {},
   "source": [
    "## Checking out the results\n",
    "\n",
    "Here I'm adding noise to the test images and passing them through the autoencoder. It does a suprising great job of removing the noise, even though it's sometimes difficult to tell what the original number is."
   ]
  },
  {
   "cell_type": "code",
   "execution_count": 31,
   "metadata": {},
   "outputs": [
    {
     "data": {
      "image/png": "[encoded data removed]",
      "text/plain": [
       "<Figure size 1800x288 with 30 Axes>"
      ]
     },
     "metadata": {
      "needs_background": "light"
     },
     "output_type": "display_data"
    }
   ],
   "source": [
    "# obtain one batch of test images\n",
    "images, labels = dataiter.next()\n",
    "\n",
    "# add noise to the test images\n",
    "noisy_imgs = images + noise_factor * torch.randn(*images.shape)\n",
    "noisy_imgs = np.clip(noisy_imgs, 0., 1.)\n",
    "\n",
    "# get sample outputs\n",
    "output = model(noisy_imgs.to(device))\n",
    "# prep images for display\n",
    "noisy_imgs = noisy_imgs.numpy()\n",
    "\n",
    "# output is resized into a batch of iages\n",
    "output = output.view(batch_size, 1, 28, 28)\n",
    "# use detach when it's an output that requires_grad\n",
    "output = output.cpu().detach().numpy()\n",
    "\n",
    "# plot the first ten input images and then reconstructed images\n",
    "fig, axes = plt.subplots(nrows=3, ncols=10, sharex=True, sharey=True, figsize=(25,4))\n",
    "\n",
    "# input images on top row, reconstructions on bottom\n",
    "for noisy_imgs, row in zip([images, noisy_imgs, output], axes):\n",
    "    for img, ax in zip(noisy_imgs, row):\n",
    "        ax.imshow(np.squeeze(img), cmap='gray')\n",
    "        ax.get_xaxis().set_visible(False)\n",
    "        ax.get_yaxis().set_visible(False)"
   ]
  },
  {
   "cell_type": "code",
   "execution_count": null,
   "metadata": {},
   "outputs": [],
   "source": []
  }
 ],
 "metadata": {
  "kernelspec": {
   "display_name": "Python 3",
   "language": "python",
   "name": "python3"
  },
  "language_info": {
   "codemirror_mode": {
    "name": "ipython",
    "version": 3
   },
   "file_extension": ".py",
   "mimetype": "text/x-python",
   "name": "python",
   "nbconvert_exporter": "python",
   "pygments_lexer": "ipython3",
   "version": "3.8.1"
  }
 },
 "nbformat": 4,
 "nbformat_minor": 2
}
