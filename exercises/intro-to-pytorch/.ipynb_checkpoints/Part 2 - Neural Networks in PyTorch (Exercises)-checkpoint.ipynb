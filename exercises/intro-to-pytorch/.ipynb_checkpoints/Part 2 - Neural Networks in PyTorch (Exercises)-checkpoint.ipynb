{
 "cells": [
  {
   "cell_type": "markdown",
   "metadata": {},
   "source": [
    "# Neural networks with PyTorch\n",
    "\n",
    "Deep learning networks tend to be massive with dozens or hundreds of layers, that's where the term \"deep\" comes from. You can build one of these deep networks using only weight matrices as we did in the previous notebook, but in general it's very cumbersome and difficult to implement. PyTorch has a nice module `nn` that provides a nice way to efficiently build large neural networks."
   ]
  },
  {
   "cell_type": "code",
   "execution_count": 1,
   "metadata": {},
   "outputs": [],
   "source": [
    "# Import necessary packages\n",
    "\n",
    "%matplotlib inline\n",
    "%config InlineBackend.figure_format = 'retina'\n",
    "\n",
    "import numpy as np\n",
    "import torch\n",
    "\n",
    "import helper\n",
    "\n",
    "import matplotlib.pyplot as plt"
   ]
  },
  {
   "cell_type": "markdown",
   "metadata": {},
   "source": [
    "\n",
    "Now we're going to build a larger network that can solve a (formerly) difficult problem, identifying text in an image. Here we'll use the MNIST dataset which consists of greyscale handwritten digits. Each image is 28x28 pixels, you can see a sample below\n",
    "\n",
    "<img src='assets/mnist.png'>\n",
    "\n",
    "Our goal is to build a neural network that can take one of these images and predict the digit in the image.\n",
    "\n",
    "First up, we need to get our dataset. This is provided through the `torchvision` package. The code below will download the MNIST dataset, then create training and test datasets for us. Don't worry too much about the details here, you'll learn more about this later."
   ]
  },
  {
   "cell_type": "code",
   "execution_count": 2,
   "metadata": {},
   "outputs": [],
   "source": [
    "### Run this cell\n",
    "\n",
    "from torchvision import datasets, transforms\n",
    "\n",
    "# Define a transform to normalize the data\n",
    "transform = transforms.Compose([transforms.ToTensor(),\n",
    "                              transforms.Normalize((0.5,), (0.5,)),\n",
    "                              ])\n",
    "\n",
    "# Download and load the training data\n",
    "trainset = datasets.MNIST('~/.pytorch/MNIST_data/', download=True, train=True, transform=transform)\n",
    "trainloader = torch.utils.data.DataLoader(trainset, batch_size=64, shuffle=True)"
   ]
  },
  {
   "cell_type": "markdown",
   "metadata": {},
   "source": [
    "We have the training data loaded into `trainloader` and we make that an iterator with `iter(trainloader)`. Later, we'll use this to loop through the dataset for training, like\n",
    "\n",
    "```python\n",
    "for image, label in trainloader:\n",
    "    ## do things with images and labels\n",
    "```\n",
    "\n",
    "You'll notice I created the `trainloader` with a batch size of 64, and `shuffle=True`. The batch size is the number of images we get in one iteration from the data loader and pass through our network, often called a *batch*. And `shuffle=True` tells it to shuffle the dataset every time we start going through the data loader again. But here I'm just grabbing the first batch so we can check out the data. We can see below that `images` is just a tensor with size `(64, 1, 28, 28)`. So, 64 images per batch, 1 color channel, and 28x28 images."
   ]
  },
  {
   "cell_type": "code",
   "execution_count": 27,
   "metadata": {},
   "outputs": [
    {
     "name": "stdout",
     "output_type": "stream",
     "text": [
      "<class 'torch.Tensor'>\n",
      "torch.Size([64, 1, 28, 28])\n",
      "torch.Size([64])\n"
     ]
    }
   ],
   "source": [
    "dataiter = iter(trainloader)\n",
    "images, labels = dataiter.next()\n",
    "print(type(images))\n",
    "print(images.shape)\n",
    "print(labels.shape)"
   ]
  },
  {
   "cell_type": "markdown",
   "metadata": {},
   "source": [
    "This is what one of the images looks like. "
   ]
  },
  {
   "cell_type": "code",
   "execution_count": 4,
   "metadata": {},
   "outputs": [
    {
     "data": {
      "image/png": "[encoded data removed]",
      "text/plain": [
       "<Figure size 432x288 with 1 Axes>"
      ]
     },
     "metadata": {
      "image/png": {
       "height": 248,
       "width": 251
      },
      "needs_background": "light"
     },
     "output_type": "display_data"
    }
   ],
   "source": [
    "plt.imshow(images[1].numpy().squeeze(), cmap='Greys_r');"
   ]
  },
  {
   "cell_type": "markdown",
   "metadata": {},
   "source": [
    "First, let's try to build a simple network for this dataset using weight matrices and matrix multiplications. Then, we'll see how to do it using PyTorch's `nn` module which provides a much more convenient and powerful method for defining network architectures.\n",
    "\n",
    "The networks you've seen so far are called *fully-connected* or *dense* networks. Each unit in one layer is connected to each unit in the next layer. In fully-connected networks, the input to each layer must be a one-dimensional vector (which can be stacked into a 2D tensor as a batch of multiple examples). However, our images are 28x28 2D tensors, so we need to convert them into 1D vectors. Thinking about sizes, we need to convert the batch of images with shape `(64, 1, 28, 28)` to a have a shape of `(64, 784)`, 784 is 28 times 28. This is typically called *flattening*, we flattened the 2D images into 1D vectors.\n",
    "\n",
    "Previously you built a network with one output unit. Here we need 10 output units, one for each digit. We want our network to predict the digit shown in an image, so what we'll do is calculate probabilities that the image is of any one digit or class. This ends up being a discrete probability distribution over the classes (digits) that tells us the most likely class for the image. That means we need 10 output units for the 10 classes (digits). We'll see how to convert the network output into a probability distribution next.\n",
    "\n",
    "> **Exercise:** Flatten the batch of images `images`. Then build a multi-layer network with 784 input units, 256 hidden units, and 10 output units using random tensors for the weights and biases. For now, use a sigmoid activation for the hidden layer. Leave the output layer without an activation, we'll add one that gives us a probability distribution next."
   ]
  },
  {
   "cell_type": "code",
   "execution_count": 28,
   "metadata": {},
   "outputs": [
    {
     "data": {
      "text/plain": [
       "tensor([[ 1.6029e+01, -7.2680e-01,  5.0904e+00,  4.5804e+00, -1.7054e+00,\n",
       "          5.0175e+00, -1.9967e+01, -7.7163e+00, -9.3405e+00, -2.9966e+00],\n",
       "        [ 9.0446e+00,  6.2786e-01,  9.1750e+00,  3.6532e+00,  3.6506e+00,\n",
       "          7.1881e+00, -1.1919e+01,  2.4685e+00, -2.3831e+01,  1.5538e+01],\n",
       "        [ 1.6871e+01, -5.6491e+00,  7.1984e+00,  6.1043e+00,  2.0846e+01,\n",
       "         -2.0996e+00, -1.4390e+01,  3.5930e+00, -1.7976e+01,  5.2167e-01],\n",
       "        [ 1.9545e+01, -7.6466e-01,  5.2730e+00, -2.8050e+00,  1.0073e+01,\n",
       "          6.9817e+00, -1.4126e+01, -4.1803e-01, -1.0037e+01, -4.5571e-01],\n",
       "        [ 1.7826e+01, -9.3023e-01,  2.1699e+00, -4.0398e-02,  9.8312e+00,\n",
       "          1.7748e+01, -1.4972e+01, -9.8873e+00, -1.1284e+01,  2.1115e+00],\n",
       "        [ 1.2203e+01,  2.3051e-01,  6.5961e+00, -4.3979e-01,  1.6538e+01,\n",
       "          3.8184e+00, -3.4146e+00,  2.0535e+00, -1.2936e+01, -2.3158e+00],\n",
       "        [ 2.0561e+01, -3.7784e+00,  7.4593e+00,  3.6375e+00, -4.6386e+00,\n",
       "          8.4211e+00, -1.2720e+01, -4.8428e+00, -1.7677e+01, -7.7982e+00],\n",
       "        [ 9.6489e+00, -9.0974e+00,  3.5864e+00,  2.6209e+00,  1.0092e+01,\n",
       "          7.7522e+00, -1.0593e+01, -2.6064e+00, -1.9222e+01, -2.7152e+00],\n",
       "        [ 2.2431e+01, -3.8699e-01, -5.6633e-01,  3.4828e+00,  1.2617e+01,\n",
       "          6.7862e+00, -8.9223e+00, -2.2125e+00, -1.3359e+01,  3.9183e+00],\n",
       "        [ 6.6357e+00, -5.4758e+00,  3.7878e+00,  4.1556e+00,  6.1266e+00,\n",
       "          1.2626e+01, -1.3516e+01,  3.8225e+00, -1.4126e+01, -2.0946e+00],\n",
       "        [ 1.9915e+01, -1.5302e+00,  2.9151e+00,  1.0658e+00,  8.8037e+00,\n",
       "          1.0092e+01, -1.2278e+01, -2.4096e+00, -1.9787e+01, -1.0217e+00],\n",
       "        [ 2.3718e+01,  4.8739e+00, -7.6745e-01,  4.1910e-01,  6.0507e+00,\n",
       "          5.6269e+00, -5.3385e+00,  1.0871e+00, -9.4429e+00,  3.1624e+00],\n",
       "        [ 1.7263e+01, -4.7981e-01,  1.2944e+01, -1.0928e+01,  1.2615e+01,\n",
       "          3.2620e+00, -1.7612e+01,  3.5290e+00, -1.8588e+01,  8.1636e+00],\n",
       "        [ 1.2034e+01,  5.4589e+00,  4.0473e+00, -5.6025e-01, -3.2637e+00,\n",
       "          6.2973e+00, -1.6651e+01,  1.1955e+01, -5.7031e+00,  1.7205e+00],\n",
       "        [ 6.1286e+00, -9.9673e+00,  5.7018e+00, -5.6744e+00,  1.7560e+01,\n",
       "          7.4386e+00, -9.8188e+00,  8.9485e+00, -2.2819e+01,  7.2235e+00],\n",
       "        [ 1.6161e+01,  2.7382e+00,  2.3503e-01,  5.7896e+00,  1.1821e+01,\n",
       "          4.5963e+00, -1.7528e+01,  5.0755e+00, -9.9174e+00,  4.1168e+00],\n",
       "        [ 4.5348e+00, -8.1708e+00,  5.5210e+00, -9.2134e-01,  1.5305e+01,\n",
       "          1.8974e+00, -1.3164e+01,  1.8905e+00, -1.8526e+01,  9.4774e+00],\n",
       "        [ 1.5962e+01, -3.3147e+00,  1.0154e+01, -5.3653e+00,  1.1557e+01,\n",
       "          4.3600e+00, -9.3343e+00,  5.2242e+00, -1.0681e+01,  5.8357e+00],\n",
       "        [ 2.3264e+01, -2.8370e+00,  5.7325e+00,  1.2515e-01,  1.2618e+01,\n",
       "          8.6763e+00, -1.1336e+01,  4.6289e+00, -1.1495e+01,  7.0589e+00],\n",
       "        [ 1.2492e+01, -7.9489e+00,  8.3319e+00,  3.0028e+00,  5.5753e+00,\n",
       "          5.1460e+00, -1.0103e+01, -7.3358e-03, -2.2048e+01,  7.2891e+00],\n",
       "        [ 2.5327e+01, -4.9805e+00,  2.7571e+00, -1.2736e+00,  1.4297e+01,\n",
       "          9.0768e+00, -1.2205e+01,  3.5129e-01, -7.6719e+00,  5.5497e+00],\n",
       "        [ 2.2523e+01, -1.7486e+00,  4.7523e+00, -3.3759e+00,  7.5458e+00,\n",
       "          3.2455e+00, -1.8829e+01, -2.3083e+00, -1.4613e+01, -8.0143e-01],\n",
       "        [ 1.8724e+01, -1.0148e+00,  5.7441e+00,  1.1516e+00, -7.4555e+00,\n",
       "          8.0732e+00, -1.7326e+01,  2.4001e+00, -7.2976e+00,  1.7068e+01],\n",
       "        [ 6.2134e-01,  5.0253e+00,  7.5933e-01, -4.0569e+00,  6.6962e+00,\n",
       "          8.1147e+00, -8.8992e+00,  1.4535e+01, -1.1708e+01,  1.7441e+01],\n",
       "        [ 7.6496e+00, -1.1711e+01,  3.6600e+00,  6.5777e+00,  3.1606e+00,\n",
       "          1.8294e+00, -1.2973e+01, -1.3511e+00, -9.8197e+00,  7.3085e+00],\n",
       "        [ 1.9521e+01, -1.5590e+00,  2.4658e+00,  3.7066e+00,  1.0765e+01,\n",
       "         -1.6826e+00, -1.3758e+01, -3.9738e+00, -8.3086e+00,  3.2472e+00],\n",
       "        [ 2.2684e+01,  6.6183e+00,  6.2877e+00, -5.2398e+00,  1.1822e+01,\n",
       "          1.3503e+01, -9.8115e+00,  7.4713e+00, -1.0231e+01,  4.7171e+00],\n",
       "        [ 1.4415e+00,  1.5357e+00,  1.7163e+01,  5.8476e-01,  5.7885e+00,\n",
       "          1.3261e+01, -1.3332e+01,  1.5880e+01, -1.3621e+01,  8.8683e-01],\n",
       "        [ 1.1533e+01, -4.0394e+00, -4.4431e-01,  1.3812e+00,  1.3948e+01,\n",
       "          6.6870e+00, -1.2991e+01,  7.7492e+00, -1.6006e+01,  4.0867e+00],\n",
       "        [ 1.9939e+01, -7.9488e+00,  4.6091e+00, -5.6753e+00,  8.3261e+00,\n",
       "          2.5868e+00, -1.2108e+01, -1.2491e-01, -1.0946e+01,  3.3944e+00],\n",
       "        [ 1.5789e+01, -2.9146e+00,  1.5081e+01, -5.7350e+00,  5.4989e+00,\n",
       "          1.4154e+01, -1.2105e+01,  1.3353e+00, -1.1933e+01,  9.7713e+00],\n",
       "        [ 8.8842e+00, -3.1111e+00,  2.1705e+00,  1.1609e+01,  1.8012e+01,\n",
       "          1.4474e+01, -1.9810e+01, -5.0060e+00, -1.0803e+01,  8.4260e+00],\n",
       "        [ 1.2615e+01,  2.6265e+00,  2.0957e+00,  7.2029e+00,  1.0076e+00,\n",
       "          6.5710e+00, -9.8768e+00, -2.2402e+00, -7.5483e+00,  9.4002e+00],\n",
       "        [ 1.0774e+01, -5.1153e+00,  1.9462e+00,  1.5168e+00,  9.5609e+00,\n",
       "          1.0232e+01, -1.4165e+01, -6.9387e+00, -1.1662e+01, -2.2740e+00],\n",
       "        [ 1.7190e+01,  2.2036e+00,  6.4802e+00, -4.8543e+00,  2.2515e+00,\n",
       "          4.0374e+00, -1.6337e+01,  5.8052e+00, -1.9675e+01, -3.8742e+00],\n",
       "        [ 1.5157e+01, -1.4257e+00,  1.7513e+01, -8.5865e+00,  3.6208e+00,\n",
       "          5.8347e+00, -7.7387e+00, -1.4234e+00, -2.1038e+01, -7.8724e+00],\n",
       "        [ 1.6309e+01, -5.4798e+00, -2.0498e+00, -4.0711e+00,  6.5316e+00,\n",
       "          3.6662e+00, -1.5883e+01, -3.9446e+00, -1.1333e+01, -4.1395e+00],\n",
       "        [ 1.4800e+01, -2.3661e+00,  6.6593e+00, -6.1943e+00,  1.3061e+01,\n",
       "          4.8997e+00, -1.2851e+01,  9.8863e-01, -8.7992e+00,  9.5474e+00],\n",
       "        [ 1.2346e+01,  1.9984e+00,  3.2024e+00,  5.6917e+00,  1.8417e+00,\n",
       "          3.1353e+00, -7.1913e+00, -4.2041e+00, -4.5184e+00, -3.2938e+00],\n",
       "        [ 1.4820e+01, -7.8829e+00,  8.4548e+00, -5.6797e+00,  1.3731e+01,\n",
       "          1.0593e+01, -1.1557e+01,  2.7512e+00, -1.6243e+01, -4.0523e+00],\n",
       "        [ 4.5901e+00, -1.5313e+00,  1.1200e+01,  7.1473e+00,  8.3990e+00,\n",
       "          5.9539e+00, -1.6172e+01,  4.1768e+00, -2.0435e+01,  7.9423e+00],\n",
       "        [ 9.2103e+00, -7.1179e+00, -5.6668e+00,  6.7856e+00,  1.2929e+01,\n",
       "          2.7765e+00, -1.6505e+01, -4.7524e+00, -1.2680e+01,  1.1557e+01],\n",
       "        [ 1.1488e+01, -7.2760e+00,  6.8208e+00,  2.7305e+00,  1.2526e+01,\n",
       "         -2.1216e+00, -1.1893e+01, -4.7293e-01, -1.7785e+01, -7.3958e+00],\n",
       "        [ 7.7417e+00, -2.9484e+00,  2.6026e+00,  3.3534e+00,  8.1465e+00,\n",
       "          5.2918e+00, -8.8343e+00,  4.9421e+00, -1.3707e+01,  5.1086e+00],\n",
       "        [ 1.7327e+01, -6.7349e+00,  9.1274e+00,  8.0231e-01,  8.3506e+00,\n",
       "          9.6796e+00, -1.6448e+01,  6.4407e+00, -1.2741e+01,  7.6899e+00],\n",
       "        [ 1.3849e+01, -4.0780e+00,  1.0155e+01, -7.4072e+00,  2.2953e+00,\n",
       "          9.7344e+00, -7.6718e+00,  9.9957e+00, -7.6131e+00,  2.9794e+00],\n",
       "        [ 1.0112e+01,  6.7205e+00,  9.4511e+00,  4.1060e+00,  1.7095e+01,\n",
       "          1.0119e+01, -2.2880e+01,  6.0904e+00, -1.4790e+01,  6.8988e+00],\n",
       "        [ 1.3431e+01, -1.2379e+00,  1.5378e+00, -2.2021e+00,  6.5048e+00,\n",
       "          1.2421e+01, -1.1865e+01,  2.6648e+00, -1.9736e+01,  4.7274e+00],\n",
       "        [ 1.8738e+01, -1.2528e+00,  5.5951e+00, -8.4326e+00,  1.5509e+01,\n",
       "          1.1314e+01, -1.2256e+01,  2.2759e+00, -1.4955e+01, -6.7194e+00],\n",
       "        [ 2.3757e+01, -6.7893e+00,  9.7061e-02, -3.2749e+00,  6.3853e+00,\n",
       "          1.9575e+00, -1.6422e+01, -1.3504e-01, -1.1757e+01,  3.7431e+00],\n",
       "        [ 9.4123e+00, -3.6311e+00, -3.3885e+00,  2.5753e+00,  1.3926e+01,\n",
       "          8.1747e+00, -2.3797e+01,  3.6709e+00, -8.6174e+00,  4.8982e+00],\n",
       "        [ 1.4971e+01, -5.3248e-01,  1.1720e+01, -1.1366e+00,  1.7248e+00,\n",
       "          1.5407e+01, -1.8021e+01,  5.8322e+00, -4.1152e+00, -4.5204e+00],\n",
       "        [ 1.7772e+01, -6.3853e+00,  7.6297e+00, -8.1108e+00,  8.1774e+00,\n",
       "          5.7735e+00, -9.9506e+00,  1.9583e-01, -7.2484e+00,  6.5592e+00],\n",
       "        [ 2.0349e+01,  4.3201e+00,  7.0027e+00, -3.4761e+00,  1.3411e+01,\n",
       "          2.2950e+00, -9.3479e+00,  2.6514e+00, -1.1157e+01,  6.6199e+00],\n",
       "        [ 8.8294e+00,  2.0944e+00, -5.8925e+00,  9.5505e+00,  4.8021e+00,\n",
       "          1.1194e+01, -1.9583e+01,  4.7360e-01, -9.4796e+00,  1.0815e+01],\n",
       "        [ 1.0180e+01,  4.2999e+00,  6.4298e+00,  3.9794e+00, -6.3160e-02,\n",
       "          5.8564e+00, -1.8738e+01,  2.0349e+00, -7.7287e+00,  8.2848e+00],\n",
       "        [ 1.7815e+01, -7.1047e+00,  1.2452e+01,  5.6519e+00,  1.5761e+01,\n",
       "          1.3730e+01, -1.5144e+01, -5.0322e-01, -1.5203e+01, -3.5557e+00],\n",
       "        [ 2.1850e+01,  5.6329e-01,  7.4765e-01,  9.6552e-01, -7.0192e-01,\n",
       "          1.0457e+01, -2.0380e+01,  7.3255e+00, -1.6379e+01,  9.3457e+00],\n",
       "        [ 9.8117e+00, -6.0632e+00,  1.9000e+01, -1.1007e+00,  8.3904e+00,\n",
       "          4.0658e+00, -8.0574e+00,  4.4714e+00, -8.3661e+00,  6.3520e+00],\n",
       "        [ 1.2225e+01,  4.1918e+00,  1.1830e+01, -1.4204e+00,  1.0013e+01,\n",
       "          4.7066e+00, -7.5643e+00,  6.7888e+00, -1.5452e+01,  8.4126e-01],\n",
       "        [ 1.4394e+01, -5.1915e+00, -1.1198e+00, -1.2535e+00,  1.6318e+01,\n",
       "          1.4856e+01, -1.2397e+01, -3.7639e+00, -1.4838e+01, -2.4346e+00],\n",
       "        [ 2.0288e+01,  1.2934e-02,  6.6788e+00, -2.4562e+00,  7.5575e+00,\n",
       "          2.2750e+00, -1.9857e+01,  1.7706e+00, -7.3634e+00,  8.3929e+00],\n",
       "        [ 1.8106e+01,  4.8583e+00,  9.2063e+00,  5.1582e+00,  4.5425e+00,\n",
       "          4.4033e+00, -1.1233e+01,  1.8976e-01, -4.6134e+00,  1.2085e+01],\n",
       "        [ 2.4396e+01, -7.0108e-01,  1.6530e+01, -6.9505e+00,  7.2553e+00,\n",
       "          5.5489e+00, -1.5525e+01,  5.1017e+00, -1.9096e+01, -3.6744e+00]])"
      ]
     },
     "execution_count": 28,
     "metadata": {},
     "output_type": "execute_result"
    }
   ],
   "source": [
    "## Your solution\n",
    "def flatten_images(image_vector):\n",
    "    assert image_vector.shape == (64,1,28,28), f\"Actual shape: {image_vector.shape}\"\n",
    "    return image_vector.view(image_vector.shape[0], -1)\n",
    "    \n",
    "    \n",
    "def sigmoid(x):\n",
    "    return 1/(1 + torch.exp(-x))\n",
    "\n",
    "\n",
    "input_count = flatten_images(images).shape[1]\n",
    "hidden_count = 256\n",
    "output_count = 10\n",
    "\n",
    "input_weights = torch.randn(size=(input_count, hidden_count))\n",
    "input_bias = torch.randn(size=(1, hidden_count))\n",
    "hidden_weights = torch.randn(size=(hidden_count, output_count))\n",
    "hidden_bias = torch.randn(size=(1, output_count))\n",
    "\n",
    "\n",
    "def forward(input_images):\n",
    "    input = flatten_images(input_images)\n",
    "    hidden_layer = sigmoid(torch.mm(input, input_weights) + input_bias)\n",
    "    output_layer = torch.mm(hidden_layer, hidden_weights) + hidden_bias\n",
    "    return output_layer\n",
    "\n",
    "\n",
    "out = forward(images)\n",
    "out"
   ]
  },
  {
   "cell_type": "markdown",
   "metadata": {},
   "source": [
    "Now we have 10 outputs for our network. We want to pass in an image to our network and get out a probability distribution over the classes that tells us the likely class(es) the image belongs to. Something that looks like this:\n",
    "<img src='assets/image_distribution.png' width=500px>\n",
    "\n",
    "Here we see that the probability for each class is roughly the same. This is representing an untrained network, it hasn't seen any data yet so it just returns a uniform distribution with equal probabilities for each class.\n",
    "\n",
    "To calculate this probability distribution, we often use the [**softmax** function](https://en.wikipedia.org/wiki/Softmax_function). Mathematically this looks like\n",
    "\n",
    "$$\n",
    "\\Large \\sigma(x_i) = \\cfrac{e^{x_i}}{\\sum_k^K{e^{x_k}}}\n",
    "$$\n",
    "\n",
    "What this does is squish each input $x_i$ between 0 and 1 and normalizes the values to give you a proper probability distribution where the probabilites sum up to one.\n",
    "\n",
    "> **Exercise:** Implement a function `softmax` that performs the softmax calculation and returns probability distributions for each example in the batch. Note that you'll need to pay attention to the shapes when doing this. If you have a tensor `a` with shape `(64, 10)` and a tensor `b` with shape `(64,)`, doing `a/b` will give you an error because PyTorch will try to do the division across the columns (called broadcasting) but you'll get a size mismatch. The way to think about this is for each of the 64 examples, you only want to divide by one value, the sum in the denominator. So you need `b` to have a shape of `(64, 1)`. This way PyTorch will divide the 10 values in each row of `a` by the one value in each row of `b`. Pay attention to how you take the sum as well. You'll need to define the `dim` keyword in `torch.sum`. Setting `dim=0` takes the sum across the rows while `dim=1` takes the sum across the columns."
   ]
  },
  {
   "cell_type": "code",
   "execution_count": 6,
   "metadata": {},
   "outputs": [
    {
     "name": "stdout",
     "output_type": "stream",
     "text": [
      "torch.Size([64, 10])\n",
      "tensor([1.0000, 1.0000, 1.0000, 1.0000, 1.0000, 1.0000, 1.0000, 1.0000, 1.0000,\n",
      "        1.0000, 1.0000, 1.0000, 1.0000, 1.0000, 1.0000, 1.0000, 1.0000, 1.0000,\n",
      "        1.0000, 1.0000, 1.0000, 1.0000, 1.0000, 1.0000, 1.0000, 1.0000, 1.0000,\n",
      "        1.0000, 1.0000, 1.0000, 1.0000, 1.0000, 1.0000, 1.0000, 1.0000, 1.0000,\n",
      "        1.0000, 1.0000, 1.0000, 1.0000, 1.0000, 1.0000, 1.0000, 1.0000, 1.0000,\n",
      "        1.0000, 1.0000, 1.0000, 1.0000, 1.0000, 1.0000, 1.0000, 1.0000, 1.0000,\n",
      "        1.0000, 1.0000, 1.0000, 1.0000, 1.0000, 1.0000, 1.0000, 1.0000, 1.0000,\n",
      "        1.0000])\n"
     ]
    }
   ],
   "source": [
    "def softmax(x):\n",
    "    exp_sum = torch.sum(torch.exp(x), dim=1)\n",
    "    exp_sum_2d = exp_sum.view(exp_sum.shape[0], -1)\n",
    "    return torch.exp(x) / exp_sum_2d\n",
    "\n",
    "# Here, out should be the output of the network in the previous excercise with shape (64,10)\n",
    "probabilities = softmax(out)\n",
    "\n",
    "# Does it have the right shape? Should be (64, 10)\n",
    "print(probabilities.shape)\n",
    "# Does it sum to 1?\n",
    "print(probabilities.sum(dim=1))"
   ]
  },
  {
   "cell_type": "markdown",
   "metadata": {},
   "source": [
    "## Building networks with PyTorch\n",
    "\n",
    "PyTorch provides a module `nn` that makes building networks much simpler. Here I'll show you how to build the same one as above with 784 inputs, 256 hidden units, 10 output units and a softmax output."
   ]
  },
  {
   "cell_type": "code",
   "execution_count": 10,
   "metadata": {},
   "outputs": [],
   "source": [
    "from torch import nn"
   ]
  },
  {
   "cell_type": "code",
   "execution_count": 29,
   "metadata": {},
   "outputs": [],
   "source": [
    "class Network(nn.Module):\n",
    "    def __init__(self):\n",
    "        super().__init__()\n",
    "        \n",
    "        # Inputs to hidden layer linear transformation\n",
    "        self.hidden = nn.Linear(784, 256)\n",
    "        # Output layer, 10 units - one for each digit\n",
    "        self.output = nn.Linear(256, 10)\n",
    "        \n",
    "        # Define sigmoid activation and softmax output \n",
    "        self.sigmoid = nn.Sigmoid()\n",
    "        self.softmax = nn.Softmax(dim=1)\n",
    "        \n",
    "    def forward(self, x):\n",
    "        # Pass the input tensor through each of our operations\n",
    "        x = self.hidden(x)\n",
    "        x = self.sigmoid(x)\n",
    "        x = self.output(x)\n",
    "        x = self.softmax(x)\n",
    "        \n",
    "        return x"
   ]
  },
  {
   "cell_type": "markdown",
   "metadata": {},
   "source": [
    "Let's go through this bit by bit.\n",
    "\n",
    "```python\n",
    "class Network(nn.Module):\n",
    "```\n",
    "\n",
    "Here we're inheriting from `nn.Module`. Combined with `super().__init__()` this creates a class that tracks the architecture and provides a lot of useful methods and attributes. It is mandatory to inherit from `nn.Module` when you're creating a class for your network. The name of the class itself can be anything.\n",
    "\n",
    "```python\n",
    "self.hidden = nn.Linear(784, 256)\n",
    "```\n",
    "\n",
    "This line creates a module for a linear transformation, $x\\mathbf{W} + b$, with 784 inputs and 256 outputs and assigns it to `self.hidden`. The module automatically creates the weight and bias tensors which we'll use in the `forward` method. You can access the weight and bias tensors once the network (`net`) is created with `net.hidden.weight` and `net.hidden.bias`.\n",
    "\n",
    "```python\n",
    "self.output = nn.Linear(256, 10)\n",
    "```\n",
    "\n",
    "Similarly, this creates another linear transformation with 256 inputs and 10 outputs.\n",
    "\n",
    "```python\n",
    "self.sigmoid = nn.Sigmoid()\n",
    "self.softmax = nn.Softmax(dim=1)\n",
    "```\n",
    "\n",
    "Here I defined operations for the sigmoid activation and softmax output. Setting `dim=1` in `nn.Softmax(dim=1)` calculates softmax across the columns.\n",
    "\n",
    "```python\n",
    "def forward(self, x):\n",
    "```\n",
    "\n",
    "PyTorch networks created with `nn.Module` must have a `forward` method defined. It takes in a tensor `x` and passes it through the operations you defined in the `__init__` method.\n",
    "\n",
    "```python\n",
    "x = self.hidden(x)\n",
    "x = self.sigmoid(x)\n",
    "x = self.output(x)\n",
    "x = self.softmax(x)\n",
    "```\n",
    "\n",
    "Here the input tensor `x` is passed through each operation and reassigned to `x`. We can see that the input tensor goes through the hidden layer, then a sigmoid function, then the output layer, and finally the softmax function. It doesn't matter what you name the variables here, as long as the inputs and outputs of the operations match the network architecture you want to build. The order in which you define things in the `__init__` method doesn't matter, but you'll need to sequence the operations correctly in the `forward` method.\n",
    "\n",
    "Now we can create a `Network` object."
   ]
  },
  {
   "cell_type": "code",
   "execution_count": 12,
   "metadata": {},
   "outputs": [
    {
     "data": {
      "text/plain": [
       "Network(\n",
       "  (hidden): Linear(in_features=784, out_features=256, bias=True)\n",
       "  (output): Linear(in_features=256, out_features=10, bias=True)\n",
       "  (sigmoid): Sigmoid()\n",
       "  (softmax): Softmax(dim=1)\n",
       ")"
      ]
     },
     "execution_count": 12,
     "metadata": {},
     "output_type": "execute_result"
    }
   ],
   "source": [
    "# Create the network and look at it's text representation\n",
    "model = Network()\n",
    "model"
   ]
  },
  {
   "cell_type": "markdown",
   "metadata": {},
   "source": [
    "You can define the network somewhat more concisely and clearly using the `torch.nn.functional` module. This is the most common way you'll see networks defined as many operations are simple element-wise functions. We normally import this module as `F`, `import torch.nn.functional as F`."
   ]
  },
  {
   "cell_type": "code",
   "execution_count": 30,
   "metadata": {},
   "outputs": [],
   "source": [
    "import torch.nn.functional as F\n",
    "\n",
    "class Network(nn.Module):\n",
    "    def __init__(self):\n",
    "        super().__init__()\n",
    "        # Inputs to hidden layer linear transformation\n",
    "        self.hidden = nn.Linear(784, 256)\n",
    "        # Output layer, 10 units - one for each digit\n",
    "        self.output = nn.Linear(256, 10)\n",
    "        \n",
    "    def forward(self, x):\n",
    "        # Hidden layer with sigmoid activation\n",
    "        x = F.sigmoid(self.hidden(x))\n",
    "        # Output layer with softmax activation\n",
    "        x = F.softmax(self.output(x), dim=1)\n",
    "        \n",
    "        return x"
   ]
  },
  {
   "cell_type": "markdown",
   "metadata": {},
   "source": [
    "### Activation functions\n",
    "\n",
    "So far we've only been looking at the sigmoid activation function, but in general any function can be used as an activation function. The only requirement is that for a network to approximate a non-linear function, the activation functions must be non-linear. Here are a few more examples of common activation functions: Tanh (hyperbolic tangent), and ReLU (rectified linear unit).\n",
    "\n",
    "<img src=\"assets/activation.png\" width=700px>\n",
    "\n",
    "In practice, the ReLU function is used almost exclusively as the activation function for hidden layers."
   ]
  },
  {
   "cell_type": "markdown",
   "metadata": {},
   "source": [
    "### Your Turn to Build a Network\n",
    "\n",
    "<img src=\"assets/mlp_mnist.png\" width=600px>\n",
    "\n",
    "> **Exercise:** Create a network with 784 input units, a hidden layer with 128 units and a ReLU activation, then a hidden layer with 64 units and a ReLU activation, and finally an output layer with a softmax activation as shown above. You can use a ReLU activation with the `nn.ReLU` module or `F.relu` function.\n",
    "\n",
    "It's good practice to name your layers by their type of network, for instance 'fc' to represent a fully-connected layer. As you code your solution, use `fc1`, `fc2`, and `fc3` as your layer names."
   ]
  },
  {
   "cell_type": "code",
   "execution_count": 34,
   "metadata": {
    "scrolled": true
   },
   "outputs": [
    {
     "data": {
      "text/plain": [
       "Classifier(\n",
       "  (fc1): Linear(in_features=784, out_features=128, bias=True)\n",
       "  (fc2): Linear(in_features=128, out_features=64, bias=True)\n",
       "  (fc3): Linear(in_features=64, out_features=10, bias=True)\n",
       ")"
      ]
     },
     "execution_count": 34,
     "metadata": {},
     "output_type": "execute_result"
    }
   ],
   "source": [
    "## Your solution here\n",
    "class Classifier(nn.Module):\n",
    "    def __init__(self):\n",
    "        super().__init__()\n",
    "        \n",
    "        self.input_count = 784\n",
    "        self.hidden1_count = 128\n",
    "        self.hidden2_count = 64\n",
    "        self.output_count = 10\n",
    "        \n",
    "        self.fc1 = nn.Linear(self.input_count, self.hidden1_count, bias=True)\n",
    "        self.fc2 = nn.Linear(self.hidden1_count, self.hidden2_count, bias=True)\n",
    "        self.fc3 = nn.Linear(self.hidden2_count, self.output_count, bias=True)\n",
    "        \n",
    "    def forward(self, input):\n",
    "        H1 = F.relu(self.fc1(input))\n",
    "        H2 = F.relu(self.fc2(H1))\n",
    "        output = F.softmax(self.fc3(H2), dim=1)\n",
    "        return output\n",
    "    \n",
    "model = Classifier()\n",
    "model"
   ]
  },
  {
   "cell_type": "markdown",
   "metadata": {},
   "source": [
    "### Initializing weights and biases\n",
    "\n",
    "The weights and such are automatically initialized for you, but it's possible to customize how they are initialized. The weights and biases are tensors attached to the layer you defined, you can get them with `model.fc1.weight` for instance."
   ]
  },
  {
   "cell_type": "code",
   "execution_count": 18,
   "metadata": {},
   "outputs": [
    {
     "name": "stdout",
     "output_type": "stream",
     "text": [
      "Parameter containing:\n",
      "tensor([[-0.0181, -0.0045, -0.0187,  ...,  0.0073,  0.0295,  0.0189],\n",
      "        [-0.0171,  0.0007,  0.0351,  ..., -0.0011,  0.0135,  0.0231],\n",
      "        [-0.0067, -0.0198, -0.0326,  ...,  0.0090, -0.0147,  0.0190],\n",
      "        ...,\n",
      "        [ 0.0200, -0.0281, -0.0278,  ...,  0.0157,  0.0152,  0.0357],\n",
      "        [-0.0076,  0.0263, -0.0276,  ..., -0.0166,  0.0021,  0.0234],\n",
      "        [ 0.0074, -0.0357,  0.0293,  ..., -0.0046,  0.0268,  0.0145]],\n",
      "       requires_grad=True)\n",
      "Parameter containing:\n",
      "tensor([-0.0099, -0.0077,  0.0234, -0.0319,  0.0295, -0.0093, -0.0197, -0.0185,\n",
      "        -0.0108, -0.0340, -0.0041,  0.0036, -0.0205, -0.0153, -0.0344, -0.0324,\n",
      "        -0.0189, -0.0214, -0.0104,  0.0219,  0.0112, -0.0322, -0.0236, -0.0008,\n",
      "         0.0168, -0.0162,  0.0088,  0.0099,  0.0039,  0.0276, -0.0158,  0.0311,\n",
      "         0.0353,  0.0351, -0.0245,  0.0144,  0.0281,  0.0074, -0.0183,  0.0211,\n",
      "        -0.0332,  0.0318,  0.0304, -0.0281,  0.0192, -0.0144,  0.0181, -0.0040,\n",
      "         0.0019,  0.0153,  0.0319,  0.0356,  0.0250, -0.0051,  0.0057,  0.0172,\n",
      "         0.0212,  0.0348,  0.0356,  0.0242,  0.0125, -0.0295,  0.0014,  0.0024,\n",
      "         0.0344,  0.0077, -0.0020, -0.0242, -0.0181,  0.0268, -0.0338,  0.0052,\n",
      "        -0.0143, -0.0075,  0.0297,  0.0004,  0.0116,  0.0126,  0.0305, -0.0226,\n",
      "         0.0153, -0.0335,  0.0307, -0.0107,  0.0267, -0.0309,  0.0017,  0.0216,\n",
      "        -0.0147,  0.0330, -0.0321,  0.0147, -0.0205,  0.0063,  0.0076, -0.0069,\n",
      "        -0.0097,  0.0097,  0.0300,  0.0265, -0.0045,  0.0265, -0.0110, -0.0018,\n",
      "        -0.0201,  0.0340,  0.0263, -0.0020,  0.0137,  0.0146,  0.0339, -0.0097,\n",
      "        -0.0034,  0.0159,  0.0222,  0.0096, -0.0292, -0.0279,  0.0197,  0.0146,\n",
      "        -0.0313, -0.0151,  0.0017, -0.0019, -0.0074, -0.0088, -0.0079, -0.0053],\n",
      "       requires_grad=True)\n"
     ]
    }
   ],
   "source": [
    "print(model.fc1.weight)\n",
    "print(model.fc1.bias)"
   ]
  },
  {
   "cell_type": "markdown",
   "metadata": {},
   "source": [
    "For custom initialization, we want to modify these tensors in place. These are actually autograd *Variables*, so we need to get back the actual tensors with `model.fc1.weight.data`. Once we have the tensors, we can fill them with zeros (for biases) or random normal values."
   ]
  },
  {
   "cell_type": "code",
   "execution_count": 19,
   "metadata": {},
   "outputs": [
    {
     "data": {
      "text/plain": [
       "tensor([0., 0., 0., 0., 0., 0., 0., 0., 0., 0., 0., 0., 0., 0., 0., 0., 0., 0., 0., 0., 0., 0., 0., 0.,\n",
       "        0., 0., 0., 0., 0., 0., 0., 0., 0., 0., 0., 0., 0., 0., 0., 0., 0., 0., 0., 0., 0., 0., 0., 0.,\n",
       "        0., 0., 0., 0., 0., 0., 0., 0., 0., 0., 0., 0., 0., 0., 0., 0., 0., 0., 0., 0., 0., 0., 0., 0.,\n",
       "        0., 0., 0., 0., 0., 0., 0., 0., 0., 0., 0., 0., 0., 0., 0., 0., 0., 0., 0., 0., 0., 0., 0., 0.,\n",
       "        0., 0., 0., 0., 0., 0., 0., 0., 0., 0., 0., 0., 0., 0., 0., 0., 0., 0., 0., 0., 0., 0., 0., 0.,\n",
       "        0., 0., 0., 0., 0., 0., 0., 0.])"
      ]
     },
     "execution_count": 19,
     "metadata": {},
     "output_type": "execute_result"
    }
   ],
   "source": [
    "# Set biases to all zeros\n",
    "model.fc1.bias.data.fill_(0)"
   ]
  },
  {
   "cell_type": "code",
   "execution_count": 20,
   "metadata": {},
   "outputs": [
    {
     "data": {
      "text/plain": [
       "tensor([[ 0.0138,  0.0221,  0.0008,  ..., -0.0019,  0.0012, -0.0084],\n",
       "        [ 0.0035,  0.0120,  0.0186,  ...,  0.0004,  0.0065,  0.0159],\n",
       "        [-0.0055, -0.0103,  0.0065,  ...,  0.0259,  0.0024,  0.0227],\n",
       "        ...,\n",
       "        [-0.0159,  0.0003, -0.0092,  ..., -0.0246, -0.0166,  0.0004],\n",
       "        [ 0.0039, -0.0106, -0.0036,  ..., -0.0003,  0.0125, -0.0084],\n",
       "        [-0.0063, -0.0075,  0.0095,  ..., -0.0055,  0.0014,  0.0127]])"
      ]
     },
     "execution_count": 20,
     "metadata": {},
     "output_type": "execute_result"
    }
   ],
   "source": [
    "# sample from random normal with standard dev = 0.01\n",
    "model.fc1.weight.data.normal_(std=0.01)"
   ]
  },
  {
   "cell_type": "markdown",
   "metadata": {},
   "source": [
    "### Forward pass\n",
    "\n",
    "Now that we have a network, let's see what happens when we pass in an image."
   ]
  },
  {
   "cell_type": "code",
   "execution_count": 37,
   "metadata": {},
   "outputs": [
    {
     "data": {
      "image/png": "[encoded data removed]",
      "text/plain": [
       "<Figure size 432x648 with 2 Axes>"
      ]
     },
     "metadata": {
      "image/png": {
       "height": 235,
       "width": 424
      },
      "needs_background": "light"
     },
     "output_type": "display_data"
    }
   ],
   "source": [
    "# Grab some data \n",
    "dataiter = iter(trainloader)\n",
    "images, labels = dataiter.next()\n",
    "\n",
    "# Resize images into a 1D vector, new shape is (batch size, color channels, image pixels) \n",
    "images.resize_(64, 1, 784)\n",
    "# or images.resize_(images.shape[0], 1, 784) to automatically get batch size\n",
    "\n",
    "# Forward pass through the network\n",
    "img_idx = 0\n",
    "ps = model.forward(images[img_idx,:])\n",
    "\n",
    "img = images[img_idx]\n",
    "helper.view_classify(img.view(1, 28, 28), ps)"
   ]
  },
  {
   "cell_type": "markdown",
   "metadata": {},
   "source": [
    "As you can see above, our network has basically no idea what this digit is. It's because we haven't trained it yet, all the weights are random!\n",
    "\n",
    "### Using `nn.Sequential`\n",
    "\n",
    "PyTorch provides a convenient way to build networks like this where a tensor is passed sequentially through operations, `nn.Sequential` ([documentation](https://pytorch.org/docs/master/nn.html#torch.nn.Sequential)). Using this to build the equivalent network:"
   ]
  },
  {
   "cell_type": "code",
   "execution_count": 38,
   "metadata": {},
   "outputs": [
    {
     "name": "stdout",
     "output_type": "stream",
     "text": [
      "Sequential(\n",
      "  (0): Linear(in_features=784, out_features=128, bias=True)\n",
      "  (1): ReLU()\n",
      "  (2): Linear(in_features=128, out_features=64, bias=True)\n",
      "  (3): ReLU()\n",
      "  (4): Linear(in_features=64, out_features=10, bias=True)\n",
      "  (5): Softmax(dim=1)\n",
      ")\n"
     ]
    },
    {
     "data": {
      "image/png": "[encoded data removed]",
      "text/plain": [
       "<Figure size 432x648 with 2 Axes>"
      ]
     },
     "metadata": {
      "image/png": {
       "height": 235,
       "width": 424
      },
      "needs_background": "light"
     },
     "output_type": "display_data"
    }
   ],
   "source": [
    "# Hyperparameters for our network\n",
    "input_size = 784\n",
    "hidden_sizes = [128, 64]\n",
    "output_size = 10\n",
    "\n",
    "# Build a feed-forward network\n",
    "model = nn.Sequential(nn.Linear(input_size, hidden_sizes[0]),\n",
    "                      nn.ReLU(),\n",
    "                      nn.Linear(hidden_sizes[0], hidden_sizes[1]),\n",
    "                      nn.ReLU(),\n",
    "                      nn.Linear(hidden_sizes[1], output_size),\n",
    "                      nn.Softmax(dim=1))\n",
    "print(model)\n",
    "\n",
    "# Forward pass through the network and display output\n",
    "images, labels = next(iter(trainloader))\n",
    "images.resize_(images.shape[0], 1, 784)\n",
    "ps = model.forward(images[0,:])\n",
    "helper.view_classify(images[0].view(1, 28, 28), ps)"
   ]
  },
  {
   "cell_type": "markdown",
   "metadata": {},
   "source": [
    "Here our model is the same as before: 784 input units, a hidden layer with 128 units, ReLU activation, 64 unit hidden layer, another ReLU, then the output layer with 10 units, and the softmax output.\n",
    "\n",
    "The operations are available by passing in the appropriate index. For example, if you want to get first Linear operation and look at the weights, you'd use `model[0]`."
   ]
  },
  {
   "cell_type": "code",
   "execution_count": null,
   "metadata": {
    "collapsed": true
   },
   "outputs": [],
   "source": [
    "print(model[0])\n",
    "model[0].weight"
   ]
  },
  {
   "cell_type": "markdown",
   "metadata": {},
   "source": [
    "You can also pass in an `OrderedDict` to name the individual layers and operations, instead of using incremental integers. Note that dictionary keys must be unique, so _each operation must have a different name_."
   ]
  },
  {
   "cell_type": "code",
   "execution_count": 39,
   "metadata": {},
   "outputs": [
    {
     "data": {
      "text/plain": [
       "Sequential(\n",
       "  (fc1): Linear(in_features=784, out_features=128, bias=True)\n",
       "  (relu1): ReLU()\n",
       "  (fc2): Linear(in_features=128, out_features=64, bias=True)\n",
       "  (relu2): ReLU()\n",
       "  (output): Linear(in_features=64, out_features=10, bias=True)\n",
       "  (softmax): Softmax(dim=1)\n",
       ")"
      ]
     },
     "execution_count": 39,
     "metadata": {},
     "output_type": "execute_result"
    }
   ],
   "source": [
    "from collections import OrderedDict\n",
    "model = nn.Sequential(OrderedDict([\n",
    "                      ('fc1', nn.Linear(input_size, hidden_sizes[0])),\n",
    "                      ('relu1', nn.ReLU()),\n",
    "                      ('fc2', nn.Linear(hidden_sizes[0], hidden_sizes[1])),\n",
    "                      ('relu2', nn.ReLU()),\n",
    "                      ('output', nn.Linear(hidden_sizes[1], output_size)),\n",
    "                      ('softmax', nn.Softmax(dim=1))]))\n",
    "model"
   ]
  },
  {
   "cell_type": "markdown",
   "metadata": {},
   "source": [
    "Now you can access layers either by integer or the name"
   ]
  },
  {
   "cell_type": "code",
   "execution_count": 40,
   "metadata": {},
   "outputs": [
    {
     "name": "stdout",
     "output_type": "stream",
     "text": [
      "Linear(in_features=784, out_features=128, bias=True)\n",
      "Linear(in_features=784, out_features=128, bias=True)\n"
     ]
    }
   ],
   "source": [
    "print(model[0])\n",
    "print(model.fc1)"
   ]
  },
  {
   "cell_type": "markdown",
   "metadata": {},
   "source": [
    "In the next notebook, we'll see how we can train a neural network to accuractly predict the numbers appearing in the MNIST images."
   ]
  }
 ],
 "metadata": {
  "kernelspec": {
   "display_name": "Python 3",
   "language": "python",
   "name": "python3"
  },
  "language_info": {
   "codemirror_mode": {
    "name": "ipython",
    "version": 3
   },
   "file_extension": ".py",
   "mimetype": "text/x-python",
   "name": "python",
   "nbconvert_exporter": "python",
   "pygments_lexer": "ipython3",
   "version": "3.8.1"
  }
 },
 "nbformat": 4,
 "nbformat_minor": 2
}
